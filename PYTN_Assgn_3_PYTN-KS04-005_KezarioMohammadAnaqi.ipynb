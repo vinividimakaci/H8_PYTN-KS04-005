{
 "cells": [
  {
   "cell_type": "markdown",
   "id": "9b78df70",
   "metadata": {},
   "source": [
    "# Assignment 3 Python"
   ]
  },
  {
   "cell_type": "markdown",
   "id": "c7d5001d",
   "metadata": {},
   "source": [
    "## Library and Data Prepping"
   ]
  },
  {
   "cell_type": "code",
   "execution_count": 233,
   "id": "3dac030a",
   "metadata": {},
   "outputs": [],
   "source": [
    "import pandas as pd\n",
    "import numpy as np\n",
    "import matplotlib.pyplot as plt\n",
    "import seaborn as sns\n",
    "%matplotlib inline\n",
    "\n",
    "from sklearn import preprocessing\n",
    "\n",
    "from sklearn.model_selection import train_test_split\n",
    "from sklearn.linear_model import LogisticRegression\n",
    "from sklearn.tree import DecisionTreeClassifier\n",
    "from sklearn.ensemble import RandomForestClassifier\n",
    "from sklearn.svm import SVC\n",
    "from sklearn import svm\n",
    "from sklearn.naive_bayes import GaussianNB\n",
    "from sklearn.neighbors import KNeighborsClassifier\n",
    "\n",
    "from sklearn.metrics import accuracy_score\n",
    "from sklearn.metrics import confusion_matrix"
   ]
  },
  {
   "cell_type": "code",
   "execution_count": 234,
   "id": "2ca6b593",
   "metadata": {
    "scrolled": true
   },
   "outputs": [
    {
     "data": {
      "text/html": [
       "<div>\n",
       "<style scoped>\n",
       "    .dataframe tbody tr th:only-of-type {\n",
       "        vertical-align: middle;\n",
       "    }\n",
       "\n",
       "    .dataframe tbody tr th {\n",
       "        vertical-align: top;\n",
       "    }\n",
       "\n",
       "    .dataframe thead th {\n",
       "        text-align: right;\n",
       "    }\n",
       "</style>\n",
       "<table border=\"1\" class=\"dataframe\">\n",
       "  <thead>\n",
       "    <tr style=\"text-align: right;\">\n",
       "      <th></th>\n",
       "      <th>age</th>\n",
       "      <th>job</th>\n",
       "      <th>marital</th>\n",
       "      <th>education</th>\n",
       "      <th>default</th>\n",
       "      <th>balance</th>\n",
       "      <th>housing</th>\n",
       "      <th>loan</th>\n",
       "      <th>contact</th>\n",
       "      <th>day</th>\n",
       "      <th>month</th>\n",
       "      <th>duration</th>\n",
       "      <th>campaign</th>\n",
       "      <th>pdays</th>\n",
       "      <th>previous</th>\n",
       "      <th>poutcome</th>\n",
       "      <th>y</th>\n",
       "    </tr>\n",
       "  </thead>\n",
       "  <tbody>\n",
       "    <tr>\n",
       "      <th>0</th>\n",
       "      <td>30</td>\n",
       "      <td>unemployed</td>\n",
       "      <td>married</td>\n",
       "      <td>primary</td>\n",
       "      <td>no</td>\n",
       "      <td>1787</td>\n",
       "      <td>no</td>\n",
       "      <td>no</td>\n",
       "      <td>cellular</td>\n",
       "      <td>19</td>\n",
       "      <td>oct</td>\n",
       "      <td>79</td>\n",
       "      <td>1</td>\n",
       "      <td>-1</td>\n",
       "      <td>0</td>\n",
       "      <td>unknown</td>\n",
       "      <td>no</td>\n",
       "    </tr>\n",
       "    <tr>\n",
       "      <th>1</th>\n",
       "      <td>33</td>\n",
       "      <td>services</td>\n",
       "      <td>married</td>\n",
       "      <td>secondary</td>\n",
       "      <td>no</td>\n",
       "      <td>4789</td>\n",
       "      <td>yes</td>\n",
       "      <td>yes</td>\n",
       "      <td>cellular</td>\n",
       "      <td>11</td>\n",
       "      <td>may</td>\n",
       "      <td>220</td>\n",
       "      <td>1</td>\n",
       "      <td>339</td>\n",
       "      <td>4</td>\n",
       "      <td>failure</td>\n",
       "      <td>no</td>\n",
       "    </tr>\n",
       "    <tr>\n",
       "      <th>2</th>\n",
       "      <td>35</td>\n",
       "      <td>management</td>\n",
       "      <td>single</td>\n",
       "      <td>tertiary</td>\n",
       "      <td>no</td>\n",
       "      <td>1350</td>\n",
       "      <td>yes</td>\n",
       "      <td>no</td>\n",
       "      <td>cellular</td>\n",
       "      <td>16</td>\n",
       "      <td>apr</td>\n",
       "      <td>185</td>\n",
       "      <td>1</td>\n",
       "      <td>330</td>\n",
       "      <td>1</td>\n",
       "      <td>failure</td>\n",
       "      <td>no</td>\n",
       "    </tr>\n",
       "    <tr>\n",
       "      <th>3</th>\n",
       "      <td>30</td>\n",
       "      <td>management</td>\n",
       "      <td>married</td>\n",
       "      <td>tertiary</td>\n",
       "      <td>no</td>\n",
       "      <td>1476</td>\n",
       "      <td>yes</td>\n",
       "      <td>yes</td>\n",
       "      <td>unknown</td>\n",
       "      <td>3</td>\n",
       "      <td>jun</td>\n",
       "      <td>199</td>\n",
       "      <td>4</td>\n",
       "      <td>-1</td>\n",
       "      <td>0</td>\n",
       "      <td>unknown</td>\n",
       "      <td>no</td>\n",
       "    </tr>\n",
       "    <tr>\n",
       "      <th>4</th>\n",
       "      <td>59</td>\n",
       "      <td>blue-collar</td>\n",
       "      <td>married</td>\n",
       "      <td>secondary</td>\n",
       "      <td>no</td>\n",
       "      <td>0</td>\n",
       "      <td>yes</td>\n",
       "      <td>no</td>\n",
       "      <td>unknown</td>\n",
       "      <td>5</td>\n",
       "      <td>may</td>\n",
       "      <td>226</td>\n",
       "      <td>1</td>\n",
       "      <td>-1</td>\n",
       "      <td>0</td>\n",
       "      <td>unknown</td>\n",
       "      <td>no</td>\n",
       "    </tr>\n",
       "  </tbody>\n",
       "</table>\n",
       "</div>"
      ],
      "text/plain": [
       "   age          job  marital  education default  balance housing loan  \\\n",
       "0   30   unemployed  married    primary      no     1787      no   no   \n",
       "1   33     services  married  secondary      no     4789     yes  yes   \n",
       "2   35   management   single   tertiary      no     1350     yes   no   \n",
       "3   30   management  married   tertiary      no     1476     yes  yes   \n",
       "4   59  blue-collar  married  secondary      no        0     yes   no   \n",
       "\n",
       "    contact  day month  duration  campaign  pdays  previous poutcome   y  \n",
       "0  cellular   19   oct        79         1     -1         0  unknown  no  \n",
       "1  cellular   11   may       220         1    339         4  failure  no  \n",
       "2  cellular   16   apr       185         1    330         1  failure  no  \n",
       "3   unknown    3   jun       199         4     -1         0  unknown  no  \n",
       "4   unknown    5   may       226         1     -1         0  unknown  no  "
      ]
     },
     "execution_count": 234,
     "metadata": {},
     "output_type": "execute_result"
    }
   ],
   "source": [
    "df = pd.read_csv('dataset/bank.csv', sep=';')\n",
    "df.head()"
   ]
  },
  {
   "cell_type": "code",
   "execution_count": 235,
   "id": "728a5997",
   "metadata": {},
   "outputs": [
    {
     "data": {
      "text/html": [
       "<div>\n",
       "<style scoped>\n",
       "    .dataframe tbody tr th:only-of-type {\n",
       "        vertical-align: middle;\n",
       "    }\n",
       "\n",
       "    .dataframe tbody tr th {\n",
       "        vertical-align: top;\n",
       "    }\n",
       "\n",
       "    .dataframe thead th {\n",
       "        text-align: right;\n",
       "    }\n",
       "</style>\n",
       "<table border=\"1\" class=\"dataframe\">\n",
       "  <thead>\n",
       "    <tr style=\"text-align: right;\">\n",
       "      <th></th>\n",
       "      <th>age</th>\n",
       "      <th>balance</th>\n",
       "      <th>day</th>\n",
       "      <th>duration</th>\n",
       "      <th>campaign</th>\n",
       "      <th>pdays</th>\n",
       "      <th>previous</th>\n",
       "    </tr>\n",
       "  </thead>\n",
       "  <tbody>\n",
       "    <tr>\n",
       "      <th>count</th>\n",
       "      <td>4521.000000</td>\n",
       "      <td>4521.000000</td>\n",
       "      <td>4521.000000</td>\n",
       "      <td>4521.000000</td>\n",
       "      <td>4521.000000</td>\n",
       "      <td>4521.000000</td>\n",
       "      <td>4521.000000</td>\n",
       "    </tr>\n",
       "    <tr>\n",
       "      <th>mean</th>\n",
       "      <td>41.170095</td>\n",
       "      <td>1422.657819</td>\n",
       "      <td>15.915284</td>\n",
       "      <td>263.961292</td>\n",
       "      <td>2.793630</td>\n",
       "      <td>39.766645</td>\n",
       "      <td>0.542579</td>\n",
       "    </tr>\n",
       "    <tr>\n",
       "      <th>std</th>\n",
       "      <td>10.576211</td>\n",
       "      <td>3009.638142</td>\n",
       "      <td>8.247667</td>\n",
       "      <td>259.856633</td>\n",
       "      <td>3.109807</td>\n",
       "      <td>100.121124</td>\n",
       "      <td>1.693562</td>\n",
       "    </tr>\n",
       "    <tr>\n",
       "      <th>min</th>\n",
       "      <td>19.000000</td>\n",
       "      <td>-3313.000000</td>\n",
       "      <td>1.000000</td>\n",
       "      <td>4.000000</td>\n",
       "      <td>1.000000</td>\n",
       "      <td>-1.000000</td>\n",
       "      <td>0.000000</td>\n",
       "    </tr>\n",
       "    <tr>\n",
       "      <th>25%</th>\n",
       "      <td>33.000000</td>\n",
       "      <td>69.000000</td>\n",
       "      <td>9.000000</td>\n",
       "      <td>104.000000</td>\n",
       "      <td>1.000000</td>\n",
       "      <td>-1.000000</td>\n",
       "      <td>0.000000</td>\n",
       "    </tr>\n",
       "    <tr>\n",
       "      <th>50%</th>\n",
       "      <td>39.000000</td>\n",
       "      <td>444.000000</td>\n",
       "      <td>16.000000</td>\n",
       "      <td>185.000000</td>\n",
       "      <td>2.000000</td>\n",
       "      <td>-1.000000</td>\n",
       "      <td>0.000000</td>\n",
       "    </tr>\n",
       "    <tr>\n",
       "      <th>75%</th>\n",
       "      <td>49.000000</td>\n",
       "      <td>1480.000000</td>\n",
       "      <td>21.000000</td>\n",
       "      <td>329.000000</td>\n",
       "      <td>3.000000</td>\n",
       "      <td>-1.000000</td>\n",
       "      <td>0.000000</td>\n",
       "    </tr>\n",
       "    <tr>\n",
       "      <th>max</th>\n",
       "      <td>87.000000</td>\n",
       "      <td>71188.000000</td>\n",
       "      <td>31.000000</td>\n",
       "      <td>3025.000000</td>\n",
       "      <td>50.000000</td>\n",
       "      <td>871.000000</td>\n",
       "      <td>25.000000</td>\n",
       "    </tr>\n",
       "  </tbody>\n",
       "</table>\n",
       "</div>"
      ],
      "text/plain": [
       "               age       balance          day     duration     campaign  \\\n",
       "count  4521.000000   4521.000000  4521.000000  4521.000000  4521.000000   \n",
       "mean     41.170095   1422.657819    15.915284   263.961292     2.793630   \n",
       "std      10.576211   3009.638142     8.247667   259.856633     3.109807   \n",
       "min      19.000000  -3313.000000     1.000000     4.000000     1.000000   \n",
       "25%      33.000000     69.000000     9.000000   104.000000     1.000000   \n",
       "50%      39.000000    444.000000    16.000000   185.000000     2.000000   \n",
       "75%      49.000000   1480.000000    21.000000   329.000000     3.000000   \n",
       "max      87.000000  71188.000000    31.000000  3025.000000    50.000000   \n",
       "\n",
       "             pdays     previous  \n",
       "count  4521.000000  4521.000000  \n",
       "mean     39.766645     0.542579  \n",
       "std     100.121124     1.693562  \n",
       "min      -1.000000     0.000000  \n",
       "25%      -1.000000     0.000000  \n",
       "50%      -1.000000     0.000000  \n",
       "75%      -1.000000     0.000000  \n",
       "max     871.000000    25.000000  "
      ]
     },
     "execution_count": 235,
     "metadata": {},
     "output_type": "execute_result"
    }
   ],
   "source": [
    "df.describe()"
   ]
  },
  {
   "cell_type": "code",
   "execution_count": 236,
   "id": "a95e34fd",
   "metadata": {},
   "outputs": [
    {
     "name": "stdout",
     "output_type": "stream",
     "text": [
      "<class 'pandas.core.frame.DataFrame'>\n",
      "RangeIndex: 4521 entries, 0 to 4520\n",
      "Data columns (total 17 columns):\n",
      " #   Column     Non-Null Count  Dtype \n",
      "---  ------     --------------  ----- \n",
      " 0   age        4521 non-null   int64 \n",
      " 1   job        4521 non-null   object\n",
      " 2   marital    4521 non-null   object\n",
      " 3   education  4521 non-null   object\n",
      " 4   default    4521 non-null   object\n",
      " 5   balance    4521 non-null   int64 \n",
      " 6   housing    4521 non-null   object\n",
      " 7   loan       4521 non-null   object\n",
      " 8   contact    4521 non-null   object\n",
      " 9   day        4521 non-null   int64 \n",
      " 10  month      4521 non-null   object\n",
      " 11  duration   4521 non-null   int64 \n",
      " 12  campaign   4521 non-null   int64 \n",
      " 13  pdays      4521 non-null   int64 \n",
      " 14  previous   4521 non-null   int64 \n",
      " 15  poutcome   4521 non-null   object\n",
      " 16  y          4521 non-null   object\n",
      "dtypes: int64(7), object(10)\n",
      "memory usage: 600.6+ KB\n"
     ]
    }
   ],
   "source": [
    "df.info()"
   ]
  },
  {
   "cell_type": "markdown",
   "id": "8faed878",
   "metadata": {},
   "source": [
    "## Data Cleaning\n",
    "\n",
    "a. Mengidentifikasi nilai yang hilang / _missing values_ pada dataset."
   ]
  },
  {
   "cell_type": "code",
   "execution_count": 237,
   "id": "6d880511",
   "metadata": {},
   "outputs": [
    {
     "name": "stdout",
     "output_type": "stream",
     "text": [
      "Bank Data: \n",
      "age          0\n",
      "job          0\n",
      "marital      0\n",
      "education    0\n",
      "default      0\n",
      "balance      0\n",
      "housing      0\n",
      "loan         0\n",
      "contact      0\n",
      "day          0\n",
      "month        0\n",
      "duration     0\n",
      "campaign     0\n",
      "pdays        0\n",
      "previous     0\n",
      "poutcome     0\n",
      "y            0\n",
      "dtype: int64 \n",
      "\n"
     ]
    }
   ],
   "source": [
    "print('Bank Data: ')\n",
    "print(df.isnull().sum(), '\\n')"
   ]
  },
  {
   "cell_type": "markdown",
   "id": "76db931f",
   "metadata": {},
   "source": [
    "Diketahui bahwa tidak terdapat missing value pada tiap atribut/kolom.\n",
    "\n",
    "b. Menghapus kolom yang kurang relevan.\n",
    "\n",
    "Kali ini, saya menghapus kolom `campaign`, `pdays`, `previous`, dan `poutcome`."
   ]
  },
  {
   "cell_type": "code",
   "execution_count": 238,
   "id": "52704a14",
   "metadata": {
    "scrolled": true
   },
   "outputs": [
    {
     "name": "stdout",
     "output_type": "stream",
     "text": [
      "<class 'pandas.core.frame.DataFrame'>\n",
      "RangeIndex: 4521 entries, 0 to 4520\n",
      "Data columns (total 13 columns):\n",
      " #   Column     Non-Null Count  Dtype \n",
      "---  ------     --------------  ----- \n",
      " 0   age        4521 non-null   int64 \n",
      " 1   job        4521 non-null   object\n",
      " 2   marital    4521 non-null   object\n",
      " 3   education  4521 non-null   object\n",
      " 4   default    4521 non-null   object\n",
      " 5   balance    4521 non-null   int64 \n",
      " 6   housing    4521 non-null   object\n",
      " 7   loan       4521 non-null   object\n",
      " 8   contact    4521 non-null   object\n",
      " 9   day        4521 non-null   int64 \n",
      " 10  month      4521 non-null   object\n",
      " 11  duration   4521 non-null   int64 \n",
      " 12  y          4521 non-null   object\n",
      "dtypes: int64(4), object(9)\n",
      "memory usage: 459.3+ KB\n"
     ]
    }
   ],
   "source": [
    "df = df.drop(columns=['campaign', 'pdays', 'previous', 'poutcome'], axis=1)\n",
    "\n",
    "df.info()"
   ]
  },
  {
   "cell_type": "code",
   "execution_count": 239,
   "id": "9ce2f4af",
   "metadata": {
    "scrolled": true
   },
   "outputs": [
    {
     "data": {
      "text/html": [
       "<div>\n",
       "<style scoped>\n",
       "    .dataframe tbody tr th:only-of-type {\n",
       "        vertical-align: middle;\n",
       "    }\n",
       "\n",
       "    .dataframe tbody tr th {\n",
       "        vertical-align: top;\n",
       "    }\n",
       "\n",
       "    .dataframe thead th {\n",
       "        text-align: right;\n",
       "    }\n",
       "</style>\n",
       "<table border=\"1\" class=\"dataframe\">\n",
       "  <thead>\n",
       "    <tr style=\"text-align: right;\">\n",
       "      <th></th>\n",
       "      <th>age</th>\n",
       "      <th>job</th>\n",
       "      <th>marital</th>\n",
       "      <th>education</th>\n",
       "      <th>default</th>\n",
       "      <th>balance</th>\n",
       "      <th>housing</th>\n",
       "      <th>loan</th>\n",
       "      <th>contact</th>\n",
       "      <th>day</th>\n",
       "      <th>month</th>\n",
       "      <th>duration</th>\n",
       "      <th>y</th>\n",
       "    </tr>\n",
       "  </thead>\n",
       "  <tbody>\n",
       "    <tr>\n",
       "      <th>0</th>\n",
       "      <td>30</td>\n",
       "      <td>unemployed</td>\n",
       "      <td>married</td>\n",
       "      <td>primary</td>\n",
       "      <td>no</td>\n",
       "      <td>1787</td>\n",
       "      <td>no</td>\n",
       "      <td>no</td>\n",
       "      <td>cellular</td>\n",
       "      <td>19</td>\n",
       "      <td>oct</td>\n",
       "      <td>79</td>\n",
       "      <td>no</td>\n",
       "    </tr>\n",
       "    <tr>\n",
       "      <th>1</th>\n",
       "      <td>33</td>\n",
       "      <td>services</td>\n",
       "      <td>married</td>\n",
       "      <td>secondary</td>\n",
       "      <td>no</td>\n",
       "      <td>4789</td>\n",
       "      <td>yes</td>\n",
       "      <td>yes</td>\n",
       "      <td>cellular</td>\n",
       "      <td>11</td>\n",
       "      <td>may</td>\n",
       "      <td>220</td>\n",
       "      <td>no</td>\n",
       "    </tr>\n",
       "    <tr>\n",
       "      <th>2</th>\n",
       "      <td>35</td>\n",
       "      <td>management</td>\n",
       "      <td>single</td>\n",
       "      <td>tertiary</td>\n",
       "      <td>no</td>\n",
       "      <td>1350</td>\n",
       "      <td>yes</td>\n",
       "      <td>no</td>\n",
       "      <td>cellular</td>\n",
       "      <td>16</td>\n",
       "      <td>apr</td>\n",
       "      <td>185</td>\n",
       "      <td>no</td>\n",
       "    </tr>\n",
       "    <tr>\n",
       "      <th>3</th>\n",
       "      <td>30</td>\n",
       "      <td>management</td>\n",
       "      <td>married</td>\n",
       "      <td>tertiary</td>\n",
       "      <td>no</td>\n",
       "      <td>1476</td>\n",
       "      <td>yes</td>\n",
       "      <td>yes</td>\n",
       "      <td>unknown</td>\n",
       "      <td>3</td>\n",
       "      <td>jun</td>\n",
       "      <td>199</td>\n",
       "      <td>no</td>\n",
       "    </tr>\n",
       "    <tr>\n",
       "      <th>4</th>\n",
       "      <td>59</td>\n",
       "      <td>blue-collar</td>\n",
       "      <td>married</td>\n",
       "      <td>secondary</td>\n",
       "      <td>no</td>\n",
       "      <td>0</td>\n",
       "      <td>yes</td>\n",
       "      <td>no</td>\n",
       "      <td>unknown</td>\n",
       "      <td>5</td>\n",
       "      <td>may</td>\n",
       "      <td>226</td>\n",
       "      <td>no</td>\n",
       "    </tr>\n",
       "  </tbody>\n",
       "</table>\n",
       "</div>"
      ],
      "text/plain": [
       "   age          job  marital  education default  balance housing loan  \\\n",
       "0   30   unemployed  married    primary      no     1787      no   no   \n",
       "1   33     services  married  secondary      no     4789     yes  yes   \n",
       "2   35   management   single   tertiary      no     1350     yes   no   \n",
       "3   30   management  married   tertiary      no     1476     yes  yes   \n",
       "4   59  blue-collar  married  secondary      no        0     yes   no   \n",
       "\n",
       "    contact  day month  duration   y  \n",
       "0  cellular   19   oct        79  no  \n",
       "1  cellular   11   may       220  no  \n",
       "2  cellular   16   apr       185  no  \n",
       "3   unknown    3   jun       199  no  \n",
       "4   unknown    5   may       226  no  "
      ]
     },
     "execution_count": 239,
     "metadata": {},
     "output_type": "execute_result"
    }
   ],
   "source": [
    "df.head()"
   ]
  },
  {
   "cell_type": "markdown",
   "id": "9e4b504d",
   "metadata": {},
   "source": [
    "Jika ditelaah lebih teliti, terdapat nilai `unknown` pada beberapa kolom. nilai `unknown` bisa saja mempengaruhi kinerja algoritma yang akan digunakan nanti. Maka dari itu akan dilakukan penghapusan data yang memiliki nilai `unknown`.\n",
    "\n",
    "c. Menghapus data dengan nilai `unknown`\n",
    "\n",
    "c.1 Mengubah nilai `unknown` menjadi `NaN` guna mempermudah penghapusan data."
   ]
  },
  {
   "cell_type": "code",
   "execution_count": 240,
   "id": "8ee7cfb8",
   "metadata": {
    "scrolled": true
   },
   "outputs": [
    {
     "data": {
      "text/html": [
       "<div>\n",
       "<style scoped>\n",
       "    .dataframe tbody tr th:only-of-type {\n",
       "        vertical-align: middle;\n",
       "    }\n",
       "\n",
       "    .dataframe tbody tr th {\n",
       "        vertical-align: top;\n",
       "    }\n",
       "\n",
       "    .dataframe thead th {\n",
       "        text-align: right;\n",
       "    }\n",
       "</style>\n",
       "<table border=\"1\" class=\"dataframe\">\n",
       "  <thead>\n",
       "    <tr style=\"text-align: right;\">\n",
       "      <th></th>\n",
       "      <th>age</th>\n",
       "      <th>job</th>\n",
       "      <th>marital</th>\n",
       "      <th>education</th>\n",
       "      <th>default</th>\n",
       "      <th>balance</th>\n",
       "      <th>housing</th>\n",
       "      <th>loan</th>\n",
       "      <th>contact</th>\n",
       "      <th>day</th>\n",
       "      <th>month</th>\n",
       "      <th>duration</th>\n",
       "      <th>y</th>\n",
       "    </tr>\n",
       "  </thead>\n",
       "  <tbody>\n",
       "    <tr>\n",
       "      <th>0</th>\n",
       "      <td>30</td>\n",
       "      <td>unemployed</td>\n",
       "      <td>married</td>\n",
       "      <td>primary</td>\n",
       "      <td>no</td>\n",
       "      <td>1787</td>\n",
       "      <td>no</td>\n",
       "      <td>no</td>\n",
       "      <td>cellular</td>\n",
       "      <td>19</td>\n",
       "      <td>oct</td>\n",
       "      <td>79</td>\n",
       "      <td>no</td>\n",
       "    </tr>\n",
       "    <tr>\n",
       "      <th>1</th>\n",
       "      <td>33</td>\n",
       "      <td>services</td>\n",
       "      <td>married</td>\n",
       "      <td>secondary</td>\n",
       "      <td>no</td>\n",
       "      <td>4789</td>\n",
       "      <td>yes</td>\n",
       "      <td>yes</td>\n",
       "      <td>cellular</td>\n",
       "      <td>11</td>\n",
       "      <td>may</td>\n",
       "      <td>220</td>\n",
       "      <td>no</td>\n",
       "    </tr>\n",
       "    <tr>\n",
       "      <th>2</th>\n",
       "      <td>35</td>\n",
       "      <td>management</td>\n",
       "      <td>single</td>\n",
       "      <td>tertiary</td>\n",
       "      <td>no</td>\n",
       "      <td>1350</td>\n",
       "      <td>yes</td>\n",
       "      <td>no</td>\n",
       "      <td>cellular</td>\n",
       "      <td>16</td>\n",
       "      <td>apr</td>\n",
       "      <td>185</td>\n",
       "      <td>no</td>\n",
       "    </tr>\n",
       "    <tr>\n",
       "      <th>3</th>\n",
       "      <td>30</td>\n",
       "      <td>management</td>\n",
       "      <td>married</td>\n",
       "      <td>tertiary</td>\n",
       "      <td>no</td>\n",
       "      <td>1476</td>\n",
       "      <td>yes</td>\n",
       "      <td>yes</td>\n",
       "      <td>unknown</td>\n",
       "      <td>3</td>\n",
       "      <td>jun</td>\n",
       "      <td>199</td>\n",
       "      <td>no</td>\n",
       "    </tr>\n",
       "    <tr>\n",
       "      <th>4</th>\n",
       "      <td>59</td>\n",
       "      <td>blue-collar</td>\n",
       "      <td>married</td>\n",
       "      <td>secondary</td>\n",
       "      <td>no</td>\n",
       "      <td>0</td>\n",
       "      <td>yes</td>\n",
       "      <td>no</td>\n",
       "      <td>unknown</td>\n",
       "      <td>5</td>\n",
       "      <td>may</td>\n",
       "      <td>226</td>\n",
       "      <td>no</td>\n",
       "    </tr>\n",
       "  </tbody>\n",
       "</table>\n",
       "</div>"
      ],
      "text/plain": [
       "   age          job  marital  education default  balance housing loan  \\\n",
       "0   30   unemployed  married    primary      no     1787      no   no   \n",
       "1   33     services  married  secondary      no     4789     yes  yes   \n",
       "2   35   management   single   tertiary      no     1350     yes   no   \n",
       "3   30   management  married   tertiary      no     1476     yes  yes   \n",
       "4   59  blue-collar  married  secondary      no        0     yes   no   \n",
       "\n",
       "    contact  day month  duration   y  \n",
       "0  cellular   19   oct        79  no  \n",
       "1  cellular   11   may       220  no  \n",
       "2  cellular   16   apr       185  no  \n",
       "3   unknown    3   jun       199  no  \n",
       "4   unknown    5   may       226  no  "
      ]
     },
     "execution_count": 240,
     "metadata": {},
     "output_type": "execute_result"
    }
   ],
   "source": [
    "df.replace([np.inf, -np.inf], np.nan, inplace=True)\n",
    "df.head()"
   ]
  },
  {
   "cell_type": "markdown",
   "id": "bc83b2e8",
   "metadata": {},
   "source": [
    "c.2 Menghapus data dengan nilai `NaN`\n",
    "\n",
    "Dapat dilihat dari informasi di atas, hanya kolom `balance` yang memiliki nilai `inf` dan/atau `-inf` yang sudah berubah menjadi `NaN`."
   ]
  },
  {
   "cell_type": "code",
   "execution_count": 241,
   "id": "0a0b64e9",
   "metadata": {
    "scrolled": true
   },
   "outputs": [
    {
     "data": {
      "text/html": [
       "<div>\n",
       "<style scoped>\n",
       "    .dataframe tbody tr th:only-of-type {\n",
       "        vertical-align: middle;\n",
       "    }\n",
       "\n",
       "    .dataframe tbody tr th {\n",
       "        vertical-align: top;\n",
       "    }\n",
       "\n",
       "    .dataframe thead th {\n",
       "        text-align: right;\n",
       "    }\n",
       "</style>\n",
       "<table border=\"1\" class=\"dataframe\">\n",
       "  <thead>\n",
       "    <tr style=\"text-align: right;\">\n",
       "      <th></th>\n",
       "      <th>age</th>\n",
       "      <th>job</th>\n",
       "      <th>marital</th>\n",
       "      <th>education</th>\n",
       "      <th>default</th>\n",
       "      <th>balance</th>\n",
       "      <th>housing</th>\n",
       "      <th>loan</th>\n",
       "      <th>contact</th>\n",
       "      <th>day</th>\n",
       "      <th>month</th>\n",
       "      <th>duration</th>\n",
       "      <th>y</th>\n",
       "    </tr>\n",
       "  </thead>\n",
       "  <tbody>\n",
       "    <tr>\n",
       "      <th>0</th>\n",
       "      <td>30</td>\n",
       "      <td>unemployed</td>\n",
       "      <td>married</td>\n",
       "      <td>primary</td>\n",
       "      <td>no</td>\n",
       "      <td>1787</td>\n",
       "      <td>no</td>\n",
       "      <td>no</td>\n",
       "      <td>cellular</td>\n",
       "      <td>19</td>\n",
       "      <td>oct</td>\n",
       "      <td>79</td>\n",
       "      <td>no</td>\n",
       "    </tr>\n",
       "    <tr>\n",
       "      <th>1</th>\n",
       "      <td>33</td>\n",
       "      <td>services</td>\n",
       "      <td>married</td>\n",
       "      <td>secondary</td>\n",
       "      <td>no</td>\n",
       "      <td>4789</td>\n",
       "      <td>yes</td>\n",
       "      <td>yes</td>\n",
       "      <td>cellular</td>\n",
       "      <td>11</td>\n",
       "      <td>may</td>\n",
       "      <td>220</td>\n",
       "      <td>no</td>\n",
       "    </tr>\n",
       "    <tr>\n",
       "      <th>2</th>\n",
       "      <td>35</td>\n",
       "      <td>management</td>\n",
       "      <td>single</td>\n",
       "      <td>tertiary</td>\n",
       "      <td>no</td>\n",
       "      <td>1350</td>\n",
       "      <td>yes</td>\n",
       "      <td>no</td>\n",
       "      <td>cellular</td>\n",
       "      <td>16</td>\n",
       "      <td>apr</td>\n",
       "      <td>185</td>\n",
       "      <td>no</td>\n",
       "    </tr>\n",
       "    <tr>\n",
       "      <th>3</th>\n",
       "      <td>30</td>\n",
       "      <td>management</td>\n",
       "      <td>married</td>\n",
       "      <td>tertiary</td>\n",
       "      <td>no</td>\n",
       "      <td>1476</td>\n",
       "      <td>yes</td>\n",
       "      <td>yes</td>\n",
       "      <td>unknown</td>\n",
       "      <td>3</td>\n",
       "      <td>jun</td>\n",
       "      <td>199</td>\n",
       "      <td>no</td>\n",
       "    </tr>\n",
       "    <tr>\n",
       "      <th>4</th>\n",
       "      <td>59</td>\n",
       "      <td>blue-collar</td>\n",
       "      <td>married</td>\n",
       "      <td>secondary</td>\n",
       "      <td>no</td>\n",
       "      <td>0</td>\n",
       "      <td>yes</td>\n",
       "      <td>no</td>\n",
       "      <td>unknown</td>\n",
       "      <td>5</td>\n",
       "      <td>may</td>\n",
       "      <td>226</td>\n",
       "      <td>no</td>\n",
       "    </tr>\n",
       "  </tbody>\n",
       "</table>\n",
       "</div>"
      ],
      "text/plain": [
       "   age          job  marital  education default  balance housing loan  \\\n",
       "0   30   unemployed  married    primary      no     1787      no   no   \n",
       "1   33     services  married  secondary      no     4789     yes  yes   \n",
       "2   35   management   single   tertiary      no     1350     yes   no   \n",
       "3   30   management  married   tertiary      no     1476     yes  yes   \n",
       "4   59  blue-collar  married  secondary      no        0     yes   no   \n",
       "\n",
       "    contact  day month  duration   y  \n",
       "0  cellular   19   oct        79  no  \n",
       "1  cellular   11   may       220  no  \n",
       "2  cellular   16   apr       185  no  \n",
       "3   unknown    3   jun       199  no  \n",
       "4   unknown    5   may       226  no  "
      ]
     },
     "execution_count": 241,
     "metadata": {},
     "output_type": "execute_result"
    }
   ],
   "source": [
    "df = df.drop(df[df['balance'].isnull()].index)\n",
    "df.head()"
   ]
  },
  {
   "cell_type": "code",
   "execution_count": 242,
   "id": "f04c0eb1",
   "metadata": {},
   "outputs": [
    {
     "data": {
      "text/plain": [
       "(4521, 13)"
      ]
     },
     "execution_count": 242,
     "metadata": {},
     "output_type": "execute_result"
    }
   ],
   "source": [
    "df.shape"
   ]
  },
  {
   "cell_type": "markdown",
   "id": "dba38da4",
   "metadata": {},
   "source": [
    "Setelah melakukan data cleaning, didapatkan hasil akhir dataset yaitu 3064 baris dan 13 kolom."
   ]
  },
  {
   "cell_type": "markdown",
   "id": "d2fe3783",
   "metadata": {},
   "source": [
    "## Data Exploration"
   ]
  },
  {
   "cell_type": "code",
   "execution_count": 243,
   "id": "35dd894f",
   "metadata": {},
   "outputs": [
    {
     "data": {
      "text/html": [
       "<div>\n",
       "<style scoped>\n",
       "    .dataframe tbody tr th:only-of-type {\n",
       "        vertical-align: middle;\n",
       "    }\n",
       "\n",
       "    .dataframe tbody tr th {\n",
       "        vertical-align: top;\n",
       "    }\n",
       "\n",
       "    .dataframe thead th {\n",
       "        text-align: right;\n",
       "    }\n",
       "</style>\n",
       "<table border=\"1\" class=\"dataframe\">\n",
       "  <thead>\n",
       "    <tr style=\"text-align: right;\">\n",
       "      <th></th>\n",
       "      <th>age</th>\n",
       "      <th>balance</th>\n",
       "      <th>day</th>\n",
       "      <th>duration</th>\n",
       "    </tr>\n",
       "  </thead>\n",
       "  <tbody>\n",
       "    <tr>\n",
       "      <th>count</th>\n",
       "      <td>4521.000000</td>\n",
       "      <td>4521.000000</td>\n",
       "      <td>4521.000000</td>\n",
       "      <td>4521.000000</td>\n",
       "    </tr>\n",
       "    <tr>\n",
       "      <th>mean</th>\n",
       "      <td>41.170095</td>\n",
       "      <td>1422.657819</td>\n",
       "      <td>15.915284</td>\n",
       "      <td>263.961292</td>\n",
       "    </tr>\n",
       "    <tr>\n",
       "      <th>std</th>\n",
       "      <td>10.576211</td>\n",
       "      <td>3009.638142</td>\n",
       "      <td>8.247667</td>\n",
       "      <td>259.856633</td>\n",
       "    </tr>\n",
       "    <tr>\n",
       "      <th>min</th>\n",
       "      <td>19.000000</td>\n",
       "      <td>-3313.000000</td>\n",
       "      <td>1.000000</td>\n",
       "      <td>4.000000</td>\n",
       "    </tr>\n",
       "    <tr>\n",
       "      <th>25%</th>\n",
       "      <td>33.000000</td>\n",
       "      <td>69.000000</td>\n",
       "      <td>9.000000</td>\n",
       "      <td>104.000000</td>\n",
       "    </tr>\n",
       "    <tr>\n",
       "      <th>50%</th>\n",
       "      <td>39.000000</td>\n",
       "      <td>444.000000</td>\n",
       "      <td>16.000000</td>\n",
       "      <td>185.000000</td>\n",
       "    </tr>\n",
       "    <tr>\n",
       "      <th>75%</th>\n",
       "      <td>49.000000</td>\n",
       "      <td>1480.000000</td>\n",
       "      <td>21.000000</td>\n",
       "      <td>329.000000</td>\n",
       "    </tr>\n",
       "    <tr>\n",
       "      <th>max</th>\n",
       "      <td>87.000000</td>\n",
       "      <td>71188.000000</td>\n",
       "      <td>31.000000</td>\n",
       "      <td>3025.000000</td>\n",
       "    </tr>\n",
       "  </tbody>\n",
       "</table>\n",
       "</div>"
      ],
      "text/plain": [
       "               age       balance          day     duration\n",
       "count  4521.000000   4521.000000  4521.000000  4521.000000\n",
       "mean     41.170095   1422.657819    15.915284   263.961292\n",
       "std      10.576211   3009.638142     8.247667   259.856633\n",
       "min      19.000000  -3313.000000     1.000000     4.000000\n",
       "25%      33.000000     69.000000     9.000000   104.000000\n",
       "50%      39.000000    444.000000    16.000000   185.000000\n",
       "75%      49.000000   1480.000000    21.000000   329.000000\n",
       "max      87.000000  71188.000000    31.000000  3025.000000"
      ]
     },
     "execution_count": 243,
     "metadata": {},
     "output_type": "execute_result"
    }
   ],
   "source": [
    "df.describe()"
   ]
  },
  {
   "cell_type": "code",
   "execution_count": 244,
   "id": "05673b46",
   "metadata": {
    "scrolled": true
   },
   "outputs": [
    {
     "name": "stdout",
     "output_type": "stream",
     "text": [
      "<class 'pandas.core.frame.DataFrame'>\n",
      "RangeIndex: 4521 entries, 0 to 4520\n",
      "Data columns (total 13 columns):\n",
      " #   Column     Non-Null Count  Dtype \n",
      "---  ------     --------------  ----- \n",
      " 0   age        4521 non-null   int64 \n",
      " 1   job        4521 non-null   object\n",
      " 2   marital    4521 non-null   object\n",
      " 3   education  4521 non-null   object\n",
      " 4   default    4521 non-null   object\n",
      " 5   balance    4521 non-null   int64 \n",
      " 6   housing    4521 non-null   object\n",
      " 7   loan       4521 non-null   object\n",
      " 8   contact    4521 non-null   object\n",
      " 9   day        4521 non-null   int64 \n",
      " 10  month      4521 non-null   object\n",
      " 11  duration   4521 non-null   int64 \n",
      " 12  y          4521 non-null   object\n",
      "dtypes: int64(4), object(9)\n",
      "memory usage: 459.3+ KB\n"
     ]
    }
   ],
   "source": [
    "df.info()"
   ]
  },
  {
   "cell_type": "markdown",
   "id": "472eae48",
   "metadata": {},
   "source": [
    "### Visualization"
   ]
  },
  {
   "cell_type": "markdown",
   "id": "0cbea912",
   "metadata": {},
   "source": [
    "#### Pie Chart"
   ]
  },
  {
   "cell_type": "code",
   "execution_count": 245,
   "id": "3b86683a",
   "metadata": {
    "scrolled": true
   },
   "outputs": [
    {
     "data": {
      "image/png": "[encoded data removed]",
      "text/plain": [
       "<Figure size 1584x576 with 1 Axes>"
      ]
     },
     "metadata": {},
     "output_type": "display_data"
    }
   ],
   "source": [
    "df_area = df.groupby(['job']).sum()['balance'].sort_values(ascending=False)\n",
    "df_area.plot(kind='pie', figsize=(22,8), autopct='%1.0f%%')\n",
    "\n",
    "plt.title(\"Persebaran Saldo berdasarkan Pekerjaan\")\n",
    "plt.show()"
   ]
  },
  {
   "cell_type": "markdown",
   "id": "82308652",
   "metadata": {},
   "source": [
    "Berdasarkan pie chart di atas, dapat dilihat bahwa kelompok individu dengan pekerjaan di bidang `management` memiliki jumlah saldo terbanyak dengan persentase **29%**. Sedangkan kelompok individu yang pengangguran (`unemployed`) dan pelajar (`student`) memiliki jumlah saldo paling sedikit dengan persentase masing-masing **2%**."
   ]
  },
  {
   "cell_type": "markdown",
   "id": "400c8ae8",
   "metadata": {},
   "source": [
    "#### Bar Plot"
   ]
  },
  {
   "cell_type": "code",
   "execution_count": 246,
   "id": "136f231f",
   "metadata": {},
   "outputs": [
    {
     "data": {
      "image/png": "[encoded data removed]",
      "text/plain": [
       "<Figure size 432x288 with 2 Axes>"
      ]
     },
     "metadata": {
      "needs_background": "light"
     },
     "output_type": "display_data"
    }
   ],
   "source": [
    "plt.subplot(1,2,1)\n",
    "df['job'].value_counts().plot.bar(color='navy')\n",
    "plt.title('Persebaran Pekerjaan Individu')\n",
    "\n",
    "plt.subplot(1,2,2)\n",
    "df['marital'].value_counts().plot.bar(color='red')\n",
    "plt.title('Persebaran Status Pernikahan Individu')\n",
    "\n",
    "plt.tight_layout()\n",
    "plt.show()"
   ]
  },
  {
   "cell_type": "code",
   "execution_count": 247,
   "id": "c99b2b5b",
   "metadata": {
    "scrolled": true
   },
   "outputs": [
    {
     "data": {
      "text/plain": [
       "Text(0.5, 1.0, 'Persebaran Jenjang Pendidikan Terakhir Individu')"
      ]
     },
     "execution_count": 247,
     "metadata": {},
     "output_type": "execute_result"
    },
    {
     "data": {
      "image/png": "[encoded data removed]",
      "text/plain": [
       "<Figure size 432x288 with 1 Axes>"
      ]
     },
     "metadata": {
      "needs_background": "light"
     },
     "output_type": "display_data"
    }
   ],
   "source": [
    "plt.subplot(1,2,1)\n",
    "df['education'].value_counts().plot.bar(color='green')\n",
    "plt.title('Persebaran Jenjang Pendidikan Terakhir Individu')"
   ]
  },
  {
   "cell_type": "markdown",
   "id": "c810aef2",
   "metadata": {},
   "source": [
    "Pada ketiga bar plot di atas, dapat disimpulkan bahwa:\n",
    "- Kelompok individu yang bekerja di bidang `management` meraih jumlah terbanyak. Sedangkan kelompok individu yang merupakan pelajar (`student`) memiliki jumlah yang paling sedikit.\n",
    "- Kelompok individu yang berstatus menikah (`married`) meraih jumlah terbanyak. Sedangkan kelompok individu yang statusnya janda/duda (`divorced`) meraih jumlah yang paling sedikit.\n",
    "- Kelompok individu yang jenjang pendidikan terakhirnya adalah Sekolah Menengah Atas (`tertiary`) memiliki jumlah terbanyak. Kelompok individu yang jenjang pendidikan terakhirnya adalah Sekolah Dasar (`primary`) meraih jumlah yang paling sedikit."
   ]
  },
  {
   "cell_type": "markdown",
   "id": "def269c7",
   "metadata": {},
   "source": [
    "## Preprocessing"
   ]
  },
  {
   "cell_type": "markdown",
   "id": "5bc97df7",
   "metadata": {},
   "source": [
    "a. Mengganti nama atribut menjadi lebih mudah dipahami\n",
    "\n",
    "Kali ini, saya mengganti nama atribut ke dalam Bahasa Indonesia."
   ]
  },
  {
   "cell_type": "code",
   "execution_count": 248,
   "id": "f2c7feeb",
   "metadata": {
    "scrolled": true
   },
   "outputs": [
    {
     "name": "stdout",
     "output_type": "stream",
     "text": [
      "<class 'pandas.core.frame.DataFrame'>\n",
      "RangeIndex: 4521 entries, 0 to 4520\n",
      "Data columns (total 13 columns):\n",
      " #   Column             Non-Null Count  Dtype \n",
      "---  ------             --------------  ----- \n",
      " 0   umur               4521 non-null   int64 \n",
      " 1   pekerjaan          4521 non-null   object\n",
      " 2   status_pernikahan  4521 non-null   object\n",
      " 3   pendidikan         4521 non-null   object\n",
      " 4   punya_kredit       4521 non-null   object\n",
      " 5   saldo              4521 non-null   int64 \n",
      " 6   pjm_rumah          4521 non-null   object\n",
      " 7   peminjaman         4521 non-null   object\n",
      " 8   kontak             4521 non-null   object\n",
      " 9   hari               4521 non-null   int64 \n",
      " 10  bulan              4521 non-null   object\n",
      " 11  durasi_terakhir    4521 non-null   int64 \n",
      " 12  y                  4521 non-null   object\n",
      "dtypes: int64(4), object(9)\n",
      "memory usage: 459.3+ KB\n"
     ]
    }
   ],
   "source": [
    "df = df.rename(columns={'age': 'umur',\n",
    "                                  'job': 'pekerjaan',\n",
    "                                  'marital': 'status_pernikahan',\n",
    "                                  'education': 'pendidikan',\n",
    "                                  'default': 'punya_kredit',\n",
    "                                  'balance': 'saldo',\n",
    "                                  'housing': 'pjm_rumah',\n",
    "                                  'loan': 'peminjaman',\n",
    "                                  'contact': 'kontak',\n",
    "                                  'day': 'hari',\n",
    "                                  'month': 'bulan',\n",
    "                                  'duration': 'durasi_terakhir'\n",
    "                                 })\n",
    "\n",
    "df.info()"
   ]
  },
  {
   "cell_type": "code",
   "execution_count": 249,
   "id": "9fc978aa",
   "metadata": {
    "scrolled": false
   },
   "outputs": [
    {
     "data": {
      "text/html": [
       "<div>\n",
       "<style scoped>\n",
       "    .dataframe tbody tr th:only-of-type {\n",
       "        vertical-align: middle;\n",
       "    }\n",
       "\n",
       "    .dataframe tbody tr th {\n",
       "        vertical-align: top;\n",
       "    }\n",
       "\n",
       "    .dataframe thead th {\n",
       "        text-align: right;\n",
       "    }\n",
       "</style>\n",
       "<table border=\"1\" class=\"dataframe\">\n",
       "  <thead>\n",
       "    <tr style=\"text-align: right;\">\n",
       "      <th></th>\n",
       "      <th>umur</th>\n",
       "      <th>pekerjaan</th>\n",
       "      <th>status_pernikahan</th>\n",
       "      <th>pendidikan</th>\n",
       "      <th>punya_kredit</th>\n",
       "      <th>saldo</th>\n",
       "      <th>pjm_rumah</th>\n",
       "      <th>peminjaman</th>\n",
       "      <th>kontak</th>\n",
       "      <th>hari</th>\n",
       "      <th>bulan</th>\n",
       "      <th>durasi_terakhir</th>\n",
       "      <th>y</th>\n",
       "    </tr>\n",
       "  </thead>\n",
       "  <tbody>\n",
       "    <tr>\n",
       "      <th>0</th>\n",
       "      <td>30</td>\n",
       "      <td>unemployed</td>\n",
       "      <td>married</td>\n",
       "      <td>primary</td>\n",
       "      <td>no</td>\n",
       "      <td>1787</td>\n",
       "      <td>no</td>\n",
       "      <td>no</td>\n",
       "      <td>cellular</td>\n",
       "      <td>19</td>\n",
       "      <td>oct</td>\n",
       "      <td>79</td>\n",
       "      <td>no</td>\n",
       "    </tr>\n",
       "    <tr>\n",
       "      <th>1</th>\n",
       "      <td>33</td>\n",
       "      <td>services</td>\n",
       "      <td>married</td>\n",
       "      <td>secondary</td>\n",
       "      <td>no</td>\n",
       "      <td>4789</td>\n",
       "      <td>yes</td>\n",
       "      <td>yes</td>\n",
       "      <td>cellular</td>\n",
       "      <td>11</td>\n",
       "      <td>may</td>\n",
       "      <td>220</td>\n",
       "      <td>no</td>\n",
       "    </tr>\n",
       "    <tr>\n",
       "      <th>2</th>\n",
       "      <td>35</td>\n",
       "      <td>management</td>\n",
       "      <td>single</td>\n",
       "      <td>tertiary</td>\n",
       "      <td>no</td>\n",
       "      <td>1350</td>\n",
       "      <td>yes</td>\n",
       "      <td>no</td>\n",
       "      <td>cellular</td>\n",
       "      <td>16</td>\n",
       "      <td>apr</td>\n",
       "      <td>185</td>\n",
       "      <td>no</td>\n",
       "    </tr>\n",
       "    <tr>\n",
       "      <th>3</th>\n",
       "      <td>30</td>\n",
       "      <td>management</td>\n",
       "      <td>married</td>\n",
       "      <td>tertiary</td>\n",
       "      <td>no</td>\n",
       "      <td>1476</td>\n",
       "      <td>yes</td>\n",
       "      <td>yes</td>\n",
       "      <td>unknown</td>\n",
       "      <td>3</td>\n",
       "      <td>jun</td>\n",
       "      <td>199</td>\n",
       "      <td>no</td>\n",
       "    </tr>\n",
       "    <tr>\n",
       "      <th>4</th>\n",
       "      <td>59</td>\n",
       "      <td>blue-collar</td>\n",
       "      <td>married</td>\n",
       "      <td>secondary</td>\n",
       "      <td>no</td>\n",
       "      <td>0</td>\n",
       "      <td>yes</td>\n",
       "      <td>no</td>\n",
       "      <td>unknown</td>\n",
       "      <td>5</td>\n",
       "      <td>may</td>\n",
       "      <td>226</td>\n",
       "      <td>no</td>\n",
       "    </tr>\n",
       "  </tbody>\n",
       "</table>\n",
       "</div>"
      ],
      "text/plain": [
       "   umur    pekerjaan status_pernikahan pendidikan punya_kredit  saldo  \\\n",
       "0    30   unemployed           married    primary           no   1787   \n",
       "1    33     services           married  secondary           no   4789   \n",
       "2    35   management            single   tertiary           no   1350   \n",
       "3    30   management           married   tertiary           no   1476   \n",
       "4    59  blue-collar           married  secondary           no      0   \n",
       "\n",
       "  pjm_rumah peminjaman    kontak  hari bulan  durasi_terakhir   y  \n",
       "0        no         no  cellular    19   oct               79  no  \n",
       "1       yes        yes  cellular    11   may              220  no  \n",
       "2       yes         no  cellular    16   apr              185  no  \n",
       "3       yes        yes   unknown     3   jun              199  no  \n",
       "4       yes         no   unknown     5   may              226  no  "
      ]
     },
     "execution_count": 249,
     "metadata": {},
     "output_type": "execute_result"
    }
   ],
   "source": [
    "df.head()"
   ]
  },
  {
   "cell_type": "markdown",
   "id": "05d95a39",
   "metadata": {},
   "source": [
    "b. Melakukan inisialisasi variabel X dan y\n",
    "\n",
    "variabel `X` berisikan seluruh atribut dari `df` kecuali kolom `y`, sedangkan variabel `y` hanya berisikan kolom `y`."
   ]
  },
  {
   "cell_type": "code",
   "execution_count": 250,
   "id": "3beb9a83",
   "metadata": {
    "scrolled": true
   },
   "outputs": [
    {
     "name": "stdout",
     "output_type": "stream",
     "text": [
      "(4521, 12)\n",
      "(4521,)\n"
     ]
    }
   ],
   "source": [
    "X = df.drop('y', axis=1)\n",
    "y = df['y']\n",
    "\n",
    "print(X.shape)\n",
    "print(y.shape)"
   ]
  },
  {
   "cell_type": "markdown",
   "id": "857c06ac",
   "metadata": {},
   "source": [
    "b. Encoding atribut kategorik menggunakan replace"
   ]
  },
  {
   "cell_type": "code",
   "execution_count": 251,
   "id": "60518a90",
   "metadata": {
    "scrolled": true
   },
   "outputs": [
    {
     "data": {
      "text/html": [
       "<div>\n",
       "<style scoped>\n",
       "    .dataframe tbody tr th:only-of-type {\n",
       "        vertical-align: middle;\n",
       "    }\n",
       "\n",
       "    .dataframe tbody tr th {\n",
       "        vertical-align: top;\n",
       "    }\n",
       "\n",
       "    .dataframe thead th {\n",
       "        text-align: right;\n",
       "    }\n",
       "</style>\n",
       "<table border=\"1\" class=\"dataframe\">\n",
       "  <thead>\n",
       "    <tr style=\"text-align: right;\">\n",
       "      <th></th>\n",
       "      <th>umur</th>\n",
       "      <th>pekerjaan</th>\n",
       "      <th>status_pernikahan</th>\n",
       "      <th>pendidikan</th>\n",
       "      <th>punya_kredit</th>\n",
       "      <th>saldo</th>\n",
       "      <th>pjm_rumah</th>\n",
       "      <th>peminjaman</th>\n",
       "      <th>kontak</th>\n",
       "      <th>hari</th>\n",
       "      <th>bulan</th>\n",
       "      <th>durasi_terakhir</th>\n",
       "      <th>y</th>\n",
       "    </tr>\n",
       "  </thead>\n",
       "  <tbody>\n",
       "    <tr>\n",
       "      <th>0</th>\n",
       "      <td>30</td>\n",
       "      <td>unemployed</td>\n",
       "      <td>married</td>\n",
       "      <td>primary</td>\n",
       "      <td>0</td>\n",
       "      <td>1787</td>\n",
       "      <td>0</td>\n",
       "      <td>0</td>\n",
       "      <td>cellular</td>\n",
       "      <td>19</td>\n",
       "      <td>10</td>\n",
       "      <td>79</td>\n",
       "      <td>0</td>\n",
       "    </tr>\n",
       "    <tr>\n",
       "      <th>1</th>\n",
       "      <td>33</td>\n",
       "      <td>services</td>\n",
       "      <td>married</td>\n",
       "      <td>secondary</td>\n",
       "      <td>0</td>\n",
       "      <td>4789</td>\n",
       "      <td>1</td>\n",
       "      <td>1</td>\n",
       "      <td>cellular</td>\n",
       "      <td>11</td>\n",
       "      <td>5</td>\n",
       "      <td>220</td>\n",
       "      <td>0</td>\n",
       "    </tr>\n",
       "    <tr>\n",
       "      <th>2</th>\n",
       "      <td>35</td>\n",
       "      <td>management</td>\n",
       "      <td>single</td>\n",
       "      <td>tertiary</td>\n",
       "      <td>0</td>\n",
       "      <td>1350</td>\n",
       "      <td>1</td>\n",
       "      <td>0</td>\n",
       "      <td>cellular</td>\n",
       "      <td>16</td>\n",
       "      <td>4</td>\n",
       "      <td>185</td>\n",
       "      <td>0</td>\n",
       "    </tr>\n",
       "    <tr>\n",
       "      <th>3</th>\n",
       "      <td>30</td>\n",
       "      <td>management</td>\n",
       "      <td>married</td>\n",
       "      <td>tertiary</td>\n",
       "      <td>0</td>\n",
       "      <td>1476</td>\n",
       "      <td>1</td>\n",
       "      <td>1</td>\n",
       "      <td>unknown</td>\n",
       "      <td>3</td>\n",
       "      <td>6</td>\n",
       "      <td>199</td>\n",
       "      <td>0</td>\n",
       "    </tr>\n",
       "    <tr>\n",
       "      <th>4</th>\n",
       "      <td>59</td>\n",
       "      <td>blue-collar</td>\n",
       "      <td>married</td>\n",
       "      <td>secondary</td>\n",
       "      <td>0</td>\n",
       "      <td>0</td>\n",
       "      <td>1</td>\n",
       "      <td>0</td>\n",
       "      <td>unknown</td>\n",
       "      <td>5</td>\n",
       "      <td>5</td>\n",
       "      <td>226</td>\n",
       "      <td>0</td>\n",
       "    </tr>\n",
       "  </tbody>\n",
       "</table>\n",
       "</div>"
      ],
      "text/plain": [
       "   umur    pekerjaan status_pernikahan pendidikan  punya_kredit  saldo  \\\n",
       "0    30   unemployed           married    primary             0   1787   \n",
       "1    33     services           married  secondary             0   4789   \n",
       "2    35   management            single   tertiary             0   1350   \n",
       "3    30   management           married   tertiary             0   1476   \n",
       "4    59  blue-collar           married  secondary             0      0   \n",
       "\n",
       "   pjm_rumah  peminjaman    kontak  hari  bulan  durasi_terakhir  y  \n",
       "0          0           0  cellular    19     10               79  0  \n",
       "1          1           1  cellular    11      5              220  0  \n",
       "2          1           0  cellular    16      4              185  0  \n",
       "3          1           1   unknown     3      6              199  0  \n",
       "4          1           0   unknown     5      5              226  0  "
      ]
     },
     "execution_count": 251,
     "metadata": {},
     "output_type": "execute_result"
    }
   ],
   "source": [
    "df['punya_kredit'].replace({'no':0, 'yes': 1}, inplace = True)\n",
    "df['pjm_rumah'].replace({'no':0, 'yes': 1}, inplace = True)\n",
    "df['peminjaman'].replace({'no':0, 'yes': 1}, inplace = True)\n",
    "df['y'].replace({'no':0, 'yes': 1}, inplace = True)\n",
    "\n",
    "df['bulan'].replace({'jan': 1, \n",
    "                     'feb': 2,\n",
    "                     'mar': 3,\n",
    "                     'apr': 4,\n",
    "                     'may': 5,\n",
    "                     'jun': 6,\n",
    "                     'jul': 7,\n",
    "                     'aug': 8, \n",
    "                     'sep': 9,\n",
    "                     'oct': 10,\n",
    "                     'nov': 11,\n",
    "                     'dec': 12}, inplace = True)\n",
    "df.head()"
   ]
  },
  {
   "cell_type": "code",
   "execution_count": 252,
   "id": "a4e027ad",
   "metadata": {
    "scrolled": false
   },
   "outputs": [
    {
     "name": "stdout",
     "output_type": "stream",
     "text": [
      "{'unemployed': 0, 'services': 1, 'management': 2, 'blue-collar': 3, 'self-employed': 4, 'technician': 5, 'entrepreneur': 6, 'admin.': 7, 'student': 8, 'housemaid': 9, 'retired': 10, 'unknown': 11}\n",
      "{'married': 0, 'single': 1, 'divorced': 2}\n",
      "{'primary': 0, 'secondary': 1, 'tertiary': 2, 'unknown': 3}\n",
      "{'cellular': 0, 'unknown': 1, 'telephone': 2}\n"
     ]
    }
   ],
   "source": [
    "def encode_data(feature_name):\n",
    "     \n",
    "    mapping_dict = {}\n",
    "    unique_values = list(df[feature_name].unique())\n",
    "    for idx in range(len(unique_values)):\n",
    "        mapping_dict[unique_values[idx]] = idx\n",
    "    print(mapping_dict)\n",
    "    return mapping_dict\n",
    "\n",
    "df['pekerjaan'].replace(encode_data('pekerjaan'), inplace = True)\n",
    "df['status_pernikahan'].replace(encode_data('status_pernikahan'), inplace = True)\n",
    "df['pendidikan'].replace(encode_data('pendidikan'), inplace = True)\n",
    "df['kontak'].replace(encode_data('kontak'), inplace = True)"
   ]
  },
  {
   "cell_type": "markdown",
   "id": "b98eb239",
   "metadata": {},
   "source": [
    "c. Melakukan inisialisasi ulang setelah encoding"
   ]
  },
  {
   "cell_type": "code",
   "execution_count": 253,
   "id": "786e144a",
   "metadata": {},
   "outputs": [
    {
     "name": "stdout",
     "output_type": "stream",
     "text": [
      "(4521, 12)\n",
      "(4521,)\n"
     ]
    }
   ],
   "source": [
    "X = df.drop('y', axis=1)\n",
    "y = df['y']\n",
    "\n",
    "print(X.shape)\n",
    "print(y.shape)"
   ]
  },
  {
   "cell_type": "markdown",
   "id": "ad84bf83",
   "metadata": {},
   "source": [
    "## Algorithms"
   ]
  },
  {
   "cell_type": "markdown",
   "id": "108828b8",
   "metadata": {},
   "source": [
    "a. Membagi proporsi data menjadi 80% untuk data latih dan 20% untuk data uji"
   ]
  },
  {
   "cell_type": "code",
   "execution_count": 254,
   "id": "7a5a1a17",
   "metadata": {},
   "outputs": [],
   "source": [
    "x_train, x_cv, y_train, y_cv = train_test_split (X, y, test_size=0.2)"
   ]
  },
  {
   "cell_type": "code",
   "execution_count": 255,
   "id": "da9ff354",
   "metadata": {},
   "outputs": [],
   "source": [
    "x_train = preprocessing.scale(x_train)\n",
    "x_test = preprocessing.scale(x_cv)"
   ]
  },
  {
   "cell_type": "code",
   "execution_count": 256,
   "id": "5c6f92e5",
   "metadata": {},
   "outputs": [
    {
     "name": "stdout",
     "output_type": "stream",
     "text": [
      "(3616, 12)\n",
      "(905, 12)\n"
     ]
    }
   ],
   "source": [
    "print(x_train.shape)\n",
    "print(x_test.shape)"
   ]
  },
  {
   "cell_type": "markdown",
   "id": "3ba6c53a",
   "metadata": {},
   "source": [
    "Didapatkan proporsi data latih sebanyak 2451 data, dan data uji sebanyak 613 data."
   ]
  },
  {
   "cell_type": "markdown",
   "id": "a25f3a0f",
   "metadata": {},
   "source": [
    "### Logistic Regression"
   ]
  },
  {
   "cell_type": "code",
   "execution_count": 257,
   "id": "81dbd687",
   "metadata": {},
   "outputs": [
    {
     "data": {
      "text/plain": [
       "LogisticRegression()"
      ]
     },
     "execution_count": 257,
     "metadata": {},
     "output_type": "execute_result"
    }
   ],
   "source": [
    "lg = LogisticRegression()\n",
    "lg.fit(x_train, y_train)"
   ]
  },
  {
   "cell_type": "code",
   "execution_count": 258,
   "id": "8cf9095e",
   "metadata": {},
   "outputs": [
    {
     "data": {
      "text/plain": [
       "LogisticRegression()"
      ]
     },
     "execution_count": 258,
     "metadata": {},
     "output_type": "execute_result"
    }
   ],
   "source": [
    "LogisticRegression(C=1.0,\n",
    "                   class_weight=None,\n",
    "                   dual=False,\n",
    "                   fit_intercept=True,\n",
    "                   intercept_scaling=1,\n",
    "                   l1_ratio=None,\n",
    "                   max_iter=100,\n",
    "                   multi_class='auto',\n",
    "                   n_jobs=None,\n",
    "                   penalty='l2', \n",
    "                   random_state=None,\n",
    "                   solver='lbfgs', \n",
    "                   tol=0.0001,\n",
    "                   verbose=0,\n",
    "                   warm_start=False\n",
    "                   )"
   ]
  },
  {
   "cell_type": "code",
   "execution_count": 259,
   "id": "6d9c549b",
   "metadata": {},
   "outputs": [
    {
     "name": "stderr",
     "output_type": "stream",
     "text": [
      "D:\\anaconda3\\lib\\site-packages\\sklearn\\base.py:443: UserWarning: X has feature names, but LogisticRegression was fitted without feature names\n",
      "  warnings.warn(\n"
     ]
    }
   ],
   "source": [
    "pred_cv_lg = lg.predict(x_cv)"
   ]
  },
  {
   "cell_type": "code",
   "execution_count": 260,
   "id": "2154e678",
   "metadata": {
    "scrolled": true
   },
   "outputs": [
    {
     "name": "stdout",
     "output_type": "stream",
     "text": [
      "0.10718232044198896\n",
      "[[  0 808]\n",
      " [  0  97]]\n"
     ]
    }
   ],
   "source": [
    "print(accuracy_score(y_cv, pred_cv_lg))\n",
    "matrix_lg = confusion_matrix(y_cv, pred_cv_lg)\n",
    "print(matrix_lg)"
   ]
  },
  {
   "cell_type": "markdown",
   "id": "dc4b0712",
   "metadata": {},
   "source": [
    "Pada algoritma Logistic Regression, didapatkan hasil sebagai berikut:\n",
    "- Nilai akurasi: 0.148 (14,8%)\n",
    "- Nilai TP (_True Positive_) adalah 0\n",
    "- Nilai FP (_False Positive_) adalah 522\n",
    "- Nilai TN (_True Negative_) adalah 0\n",
    "- Nilai FN (_False Negative_) adalah 91"
   ]
  },
  {
   "cell_type": "markdown",
   "id": "7b91b4bb",
   "metadata": {},
   "source": [
    "### Decision Tree"
   ]
  },
  {
   "cell_type": "code",
   "execution_count": 261,
   "id": "f3e7bff8",
   "metadata": {},
   "outputs": [
    {
     "data": {
      "text/plain": [
       "DecisionTreeClassifier()"
      ]
     },
     "execution_count": 261,
     "metadata": {},
     "output_type": "execute_result"
    }
   ],
   "source": [
    "dt = DecisionTreeClassifier()\n",
    "dt.fit(x_train, y_train)"
   ]
  },
  {
   "cell_type": "code",
   "execution_count": 262,
   "id": "b4bff649",
   "metadata": {},
   "outputs": [
    {
     "data": {
      "text/plain": [
       "DecisionTreeClassifier()"
      ]
     },
     "execution_count": 262,
     "metadata": {},
     "output_type": "execute_result"
    }
   ],
   "source": [
    "DecisionTreeClassifier(ccp_alpha=0.0,\n",
    "                       class_weight=None,\n",
    "                       criterion='gini',\n",
    "                       max_depth=None,\n",
    "                       max_features=None,\n",
    "                       max_leaf_nodes=None,\n",
    "                       min_impurity_decrease=0.0,\n",
    "                       min_samples_leaf=1,\n",
    "                       min_samples_split=2,\n",
    "                       min_weight_fraction_leaf=0.0,\n",
    "                       random_state=None,\n",
    "                       splitter='best')"
   ]
  },
  {
   "cell_type": "code",
   "execution_count": 263,
   "id": "657dbfb4",
   "metadata": {},
   "outputs": [],
   "source": [
    "pred_cv_dt = dt.predict(x_test)"
   ]
  },
  {
   "cell_type": "code",
   "execution_count": 264,
   "id": "8b1c4b6f",
   "metadata": {},
   "outputs": [
    {
     "name": "stdout",
     "output_type": "stream",
     "text": [
      "0.8629834254143647\n",
      "[[742  66]\n",
      " [ 58  39]]\n"
     ]
    }
   ],
   "source": [
    "print(accuracy_score(y_cv, pred_cv_dt))\n",
    "matrix_dt=confusion_matrix(y_cv, pred_cv_dt)\n",
    "print(matrix_dt)"
   ]
  },
  {
   "cell_type": "markdown",
   "id": "1c4056bf",
   "metadata": {},
   "source": [
    "Pada algoritma Decision Tree Classifier, didapatkan hasil sebagai berikut:\n",
    "- Nilai akurasi: 0.805 (80,5%)\n",
    "- Nilai TP (_True Positive_) adalah 461\n",
    "- Nilai FP (_False Positive_) adalah 61\n",
    "- Nilai TN (_True Negative_) adalah 58\n",
    "- Nilai FN (_False Negative_) adalah 33"
   ]
  },
  {
   "cell_type": "markdown",
   "id": "daf82b2e",
   "metadata": {},
   "source": [
    "### Random Forest Algorithm"
   ]
  },
  {
   "cell_type": "code",
   "execution_count": 265,
   "id": "86fa22e6",
   "metadata": {},
   "outputs": [
    {
     "data": {
      "text/plain": [
       "RandomForestClassifier()"
      ]
     },
     "execution_count": 265,
     "metadata": {},
     "output_type": "execute_result"
    }
   ],
   "source": [
    "rf = RandomForestClassifier()\n",
    "rf.fit(x_train, y_train)"
   ]
  },
  {
   "cell_type": "code",
   "execution_count": 266,
   "id": "8b76f480",
   "metadata": {},
   "outputs": [
    {
     "data": {
      "text/plain": [
       "RandomForestClassifier()"
      ]
     },
     "execution_count": 266,
     "metadata": {},
     "output_type": "execute_result"
    }
   ],
   "source": [
    "RandomForestClassifier(bootstrap=True, \n",
    "                       ccp_alpha=0.0,\n",
    "                       class_weight=None,\n",
    "                       criterion='gini',\n",
    "                       max_depth=None,\n",
    "                       max_features='auto',\n",
    "                       max_leaf_nodes=None,\n",
    "                       max_samples=None,\n",
    "                       min_impurity_decrease=0.0,\n",
    "                       min_samples_leaf=1,\n",
    "                       min_samples_split=2,\n",
    "                       min_weight_fraction_leaf=0.0,\n",
    "                       n_estimators=100,\n",
    "                       n_jobs=None,\n",
    "                       oob_score=False,\n",
    "                       random_state=None,\n",
    "                       verbose=0,\n",
    "                       warm_start=False)"
   ]
  },
  {
   "cell_type": "code",
   "execution_count": 267,
   "id": "06d83f6d",
   "metadata": {},
   "outputs": [],
   "source": [
    "pred_cv_rf = rf.predict(x_test)"
   ]
  },
  {
   "cell_type": "code",
   "execution_count": 268,
   "id": "7b7157e5",
   "metadata": {},
   "outputs": [
    {
     "name": "stdout",
     "output_type": "stream",
     "text": [
      "0.9038674033149171\n",
      "[[792  16]\n",
      " [ 71  26]]\n"
     ]
    }
   ],
   "source": [
    "print(accuracy_score(y_cv, pred_cv_rf))\n",
    "matrix_rf=confusion_matrix(y_cv, pred_cv_rf)\n",
    "print(matrix_rf)"
   ]
  },
  {
   "cell_type": "markdown",
   "id": "8e668be0",
   "metadata": {},
   "source": [
    "Pada algoritma Random Forest Classifier, didapatkan hasil sebagai berikut:\n",
    "- Nilai akurasi: 0.840 (84%)\n",
    "- Nilai TP (_True Positive_) adalah 502\n",
    "- Nilai FP (_False Positive_) adalah 20\n",
    "- Nilai TN (_True Negative_) adalah 78\n",
    "- Nilai FN (_False Negative_) adalah 13"
   ]
  },
  {
   "cell_type": "markdown",
   "id": "cea10152",
   "metadata": {},
   "source": [
    "### Support Vector Machine (SVM)"
   ]
  },
  {
   "cell_type": "code",
   "execution_count": 269,
   "id": "fe261d4c",
   "metadata": {},
   "outputs": [
    {
     "data": {
      "text/plain": [
       "SVC()"
      ]
     },
     "execution_count": 269,
     "metadata": {},
     "output_type": "execute_result"
    }
   ],
   "source": [
    "svm_m = svm.SVC()\n",
    "svm_m.fit(x_train, y_train)"
   ]
  },
  {
   "cell_type": "code",
   "execution_count": 270,
   "id": "d0eb5d32",
   "metadata": {},
   "outputs": [
    {
     "data": {
      "text/plain": [
       "SVC()"
      ]
     },
     "execution_count": 270,
     "metadata": {},
     "output_type": "execute_result"
    }
   ],
   "source": [
    "SVC(C=1.0,\n",
    "    break_ties=False,\n",
    "    cache_size=200,\n",
    "    class_weight=None,\n",
    "    coef0=0.0,\n",
    "    decision_function_shape='ovr',\n",
    "    degree=3,\n",
    "    gamma='scale', \n",
    "    kernel='rbf',\n",
    "    max_iter=-1,\n",
    "    probability=False,\n",
    "    random_state=None,\n",
    "    shrinking=True,\n",
    "    tol=0.001,\n",
    "    verbose=False)"
   ]
  },
  {
   "cell_type": "code",
   "execution_count": 271,
   "id": "ffadb233",
   "metadata": {},
   "outputs": [],
   "source": [
    "pred_cv_svm = svm_m.predict(x_test)"
   ]
  },
  {
   "cell_type": "code",
   "execution_count": 272,
   "id": "e36029fd",
   "metadata": {},
   "outputs": [
    {
     "name": "stdout",
     "output_type": "stream",
     "text": [
      "0.8972375690607735\n",
      "[[802   6]\n",
      " [ 87  10]]\n"
     ]
    }
   ],
   "source": [
    "print(accuracy_score(y_cv, pred_cv_svm))\n",
    "matrix_svm=confusion_matrix(y_cv, pred_cv_svm)\n",
    "print(matrix_svm)"
   ]
  },
  {
   "cell_type": "markdown",
   "id": "6ecee17e",
   "metadata": {},
   "source": [
    "Pada algoritma SVM, didapatkan hasil sebagai berikut:\n",
    "- Nilai akurasi: 0.858 (85,8%)\n",
    "- Nilai TP (_True Positive_) adalah 518\n",
    "- Nilai FP (_False Positive_) adalah 4\n",
    "- Nilai TN (_True Negative_) adalah 83\n",
    "- Nilai FN (_False Negative_) adalah 8"
   ]
  },
  {
   "cell_type": "markdown",
   "id": "b93a3083",
   "metadata": {},
   "source": [
    "### Naive Bayes"
   ]
  },
  {
   "cell_type": "code",
   "execution_count": 273,
   "id": "3b506e70",
   "metadata": {},
   "outputs": [
    {
     "data": {
      "text/plain": [
       "GaussianNB()"
      ]
     },
     "execution_count": 273,
     "metadata": {},
     "output_type": "execute_result"
    }
   ],
   "source": [
    "nb = GaussianNB()\n",
    "nb.fit(x_train, y_train)"
   ]
  },
  {
   "cell_type": "code",
   "execution_count": 274,
   "id": "b3d03f79",
   "metadata": {},
   "outputs": [],
   "source": [
    "pred_cv_nb = nb.predict(x_test)"
   ]
  },
  {
   "cell_type": "code",
   "execution_count": 275,
   "id": "9f93ff3d",
   "metadata": {},
   "outputs": [
    {
     "name": "stdout",
     "output_type": "stream",
     "text": [
      "0.8917127071823204\n",
      "[[768  40]\n",
      " [ 58  39]]\n"
     ]
    }
   ],
   "source": [
    "print(accuracy_score(y_cv, pred_cv_nb))\n",
    "matrix_nb=confusion_matrix(y_cv, pred_cv_nb)\n",
    "print(matrix_nb)"
   ]
  },
  {
   "cell_type": "markdown",
   "id": "67d2813f",
   "metadata": {},
   "source": [
    "Pada algoritma Naive Bayes, didapatkan hasil sebagai berikut:\n",
    "- Nilai akurasi: 0.833 (83,3%)\n",
    "- Nilai TP (_True Positive_) adalah 486\n",
    "- Nilai FP (_False Positive_) adalah 36\n",
    "- Nilai TN (_True Negative_) adalah 66\n",
    "- Nilai FN (_False Negative_) adalah 25"
   ]
  },
  {
   "cell_type": "markdown",
   "id": "b7314146",
   "metadata": {},
   "source": [
    "### K-Nearest Neighbor (k-NN)"
   ]
  },
  {
   "cell_type": "code",
   "execution_count": 276,
   "id": "a27d140e",
   "metadata": {},
   "outputs": [
    {
     "data": {
      "text/plain": [
       "KNeighborsClassifier()"
      ]
     },
     "execution_count": 276,
     "metadata": {},
     "output_type": "execute_result"
    }
   ],
   "source": [
    "kNN = KNeighborsClassifier()\n",
    "kNN.fit(x_train, y_train)"
   ]
  },
  {
   "cell_type": "code",
   "execution_count": 277,
   "id": "2c53b0e6",
   "metadata": {},
   "outputs": [],
   "source": [
    "pred_cv_kNN = kNN.predict(x_test)"
   ]
  },
  {
   "cell_type": "code",
   "execution_count": 278,
   "id": "bdb3e9a0",
   "metadata": {},
   "outputs": [
    {
     "name": "stdout",
     "output_type": "stream",
     "text": [
      "0.8994475138121547\n",
      "[[789  19]\n",
      " [ 72  25]]\n"
     ]
    }
   ],
   "source": [
    "print(accuracy_score(y_cv, pred_cv_kNN))\n",
    "matrix_kNN=confusion_matrix(y_cv, pred_cv_kNN)\n",
    "print(matrix_kNN)"
   ]
  },
  {
   "cell_type": "markdown",
   "id": "8b93f38b",
   "metadata": {},
   "source": [
    "Pada algoritma k-NN, didapatkan hasil sebagai berikut:\n",
    "- Nilai akurasi: 0.853 (85,3%)\n",
    "- Nilai TP (_True Positive_) adalah 508\n",
    "- Nilai FP (_False Positive_) adalah 14\n",
    "- Nilai TN (_True Negative_) adalah 76\n",
    "- Nilai FN (_False Negative_) adalah 15"
   ]
  },
  {
   "cell_type": "markdown",
   "id": "bc367ebd",
   "metadata": {},
   "source": [
    "### Final Result"
   ]
  },
  {
   "cell_type": "code",
   "execution_count": 279,
   "id": "ea67cd1b",
   "metadata": {},
   "outputs": [
    {
     "name": "stdout",
     "output_type": "stream",
     "text": [
      "Logistic Regression:  0.10718232044198896\n",
      "Decision Tree:  0.8629834254143647\n",
      "Random Forest:  0.9038674033149171\n",
      "SVM:  0.8972375690607735\n",
      "Naive Bayes:  0.8917127071823204\n",
      "k-NN:  0.8994475138121547\n"
     ]
    }
   ],
   "source": [
    "print('Logistic Regression: ', accuracy_score(y_cv, pred_cv_lg))\n",
    "print('Decision Tree: ', accuracy_score(y_cv, pred_cv_dt))\n",
    "print('Random Forest: ', accuracy_score(y_cv, pred_cv_rf))\n",
    "print('SVM: ', accuracy_score(y_cv, pred_cv_svm))\n",
    "print('Naive Bayes: ', accuracy_score(y_cv, pred_cv_nb))\n",
    "print('k-NN: ', accuracy_score(y_cv, pred_cv_kNN))"
   ]
  },
  {
   "cell_type": "markdown",
   "id": "710aadf4",
   "metadata": {},
   "source": [
    "## Kesimpulan"
   ]
  },
  {
   "cell_type": "markdown",
   "id": "2d1803ad",
   "metadata": {},
   "source": [
    "Setelah melakukan berbagai penghitungan, dapat ditarik beberapa kesimpulan sebagai berikut:\n",
    "- Kelompok dengan jumlah saldo terbanyak diraih oleh kelompok pekerja di bidang `management` dengan persentase sebesar **29%**. Sedangkan kelompok dengan jumlah saldo tersedikit diraih oleh kelompok pelajar (`student`) dan pengangguran (`unemployed`) dengan persentase masing-masing **2%**. \n",
    "- Nilai akurasi dalam klasifikasi data tertinggi diraih oleh **k-Nearest Neighbor (KNN)** dengan perolehan nilai **0.851 (85,1%)**. Yang dilanjut oleh **Random Forest Classifier** dengan nilai **0.848 (84,8%)**, dan **Naive Bayes** dengan nilai **0.846 (84,6%)**.\n",
    "- Nilai akurasi dalam klasifikasi data terendah diraih oleh **Logistic Regression** dengan perolehan nilai **0.156 (15,6%)**.\n",
    "- Dengan ini, algoritma **k-Nearest Neighbor** merupakan algoritma terbaik untuk klasifikasi data, dan algoritma **Logistic Regression** merupakan algoritma yang paling kurang efektif untuk klasifikasi data."
   ]
  }
 ],
 "metadata": {
  "kernelspec": {
   "display_name": "Python 3 (ipykernel)",
   "language": "python",
   "name": "python3"
  },
  "language_info": {
   "codemirror_mode": {
    "name": "ipython",
    "version": 3
   },
   "file_extension": ".py",
   "mimetype": "text/x-python",
   "name": "python",
   "nbconvert_exporter": "python",
   "pygments_lexer": "ipython3",
   "version": "3.9.7"
  },
  "toc": {
   "base_numbering": 1,
   "nav_menu": {
    "height": "273px",
    "width": "310px"
   },
   "number_sections": true,
   "sideBar": true,
   "skip_h1_title": false,
   "title_cell": "Table of Contents",
   "title_sidebar": "Contents",
   "toc_cell": false,
   "toc_position": {},
   "toc_section_display": true,
   "toc_window_display": false
  }
 },
 "nbformat": 4,
 "nbformat_minor": 5
}
