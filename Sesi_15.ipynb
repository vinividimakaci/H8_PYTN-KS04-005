{
 "cells": [
  {
   "cell_type": "markdown",
   "id": "1fef55de",
   "metadata": {},
   "source": [
    "# Sesi 15 - Model Deployment\n",
    "\n",
    "## Introduction\n",
    "\n",
    "Data scientist sering kali harus menyampaikan hasil kepada orang lain. Dalam beberapa kasus, supervisor/atasan mungkin ingin melihat beberapa angka atau kita harus menuliskan main insights dari beberapa pekerjaan. Ini cukup mudah - kita hanya copy dan paste ke email atau dokumen Latex. Tetapi bagaimana jika kita ingin mengirim seseorang model sebenarnya yang telah kita latih, sehingga mereka dapat mengevaluasi atau menggunakannya? Jika orang yang dimaksud cukup teknis, maka kita bisa menyimpan model ke disk dan kirim via email, bersama dengan beberapa notebook Jupyter.\n",
    "\n",
    "Tetapi bagaimana jika kita ingin seseorang di bagian marketing mencoba sebuah model, atau kita ingin membagikannya dengan teman-teman yang mungkin menganggapnya menarik? Dalam kasus ini, kita harus membuat kode kita dapat diakses oleh mereka dengan cara yang mereka kenal.\n",
    "\n",
    "Tiga bagian dari sesi ini adalah:\n",
    "\n",
    "- Creating a simple model that can be deployed to the web, where users can input variables to get predictions.\n",
    "- Building the components needed by Flask microframework to create a web app.\n",
    "- Deploying the final web app using the Heroku platform.\n",
    "\n",
    "## Creating Model for Deployment\n",
    "\n",
    "Kita dapat menerapkan dari model yang kita buat sebelumnya; atau jika kita menginginkan model baru, ikuti langkah di bawah ini. Ambil data yang digunakan dari sini.\n",
    "\n",
    "Dataset tersebut terdiri dari data penempatan siswa di kampus XYZ. Mencakup secondary dan higher secondary school percentage dan specialization. Ini juga mencakup degree specialization, type dan Work experience dan tawaran salary kepada siswa yang ditempatkan.\n",
    "\n",
    "### Importing Libraries\n",
    "\n",
    "Notes: Profiling boleh di-install atau tidak. Dalam sesi ini, profiling hanya digunakan menjadi contoh untuk memudahkan analisa.\n",
    "\n",
    "Lewati cell `report = data.profile_report(title='Campus Placement Data - Report', progress_bar=False)` Jika memutuskan tidak menggunakan profiling."
   ]
  },
  {
   "cell_type": "code",
   "execution_count": 1,
   "id": "0cb4a67b",
   "metadata": {},
   "outputs": [
    {
     "name": "stdout",
     "output_type": "stream",
     "text": [
      "Requirement already satisfied: pandas_profiling in d:\\anaconda3\\lib\\site-packages (3.1.0)\n",
      "Requirement already satisfied: tangled-up-in-unicode==0.1.0 in d:\\anaconda3\\lib\\site-packages (from pandas_profiling) (0.1.0)\n",
      "Requirement already satisfied: visions[type_image_path]==0.7.4 in d:\\anaconda3\\lib\\site-packages (from pandas_profiling) (0.7.4)\n",
      "Requirement already satisfied: seaborn>=0.10.1 in d:\\anaconda3\\lib\\site-packages (from pandas_profiling) (0.11.2)\n",
      "Requirement already satisfied: requests>=2.24.0 in d:\\anaconda3\\lib\\site-packages (from pandas_profiling) (2.27.1)\n",
      "Requirement already satisfied: missingno>=0.4.2 in d:\\anaconda3\\lib\\site-packages (from pandas_profiling) (0.5.1)\n",
      "Requirement already satisfied: multimethod>=1.4 in d:\\anaconda3\\lib\\site-packages (from pandas_profiling) (1.8)\n",
      "Requirement already satisfied: tqdm>=4.48.2 in d:\\anaconda3\\lib\\site-packages (from pandas_profiling) (4.64.0)\n",
      "Requirement already satisfied: numpy>=1.16.0 in d:\\anaconda3\\lib\\site-packages (from pandas_profiling) (1.21.5)\n",
      "Requirement already satisfied: pandas!=1.0.0,!=1.0.1,!=1.0.2,!=1.1.0,>=0.25.3 in d:\\anaconda3\\lib\\site-packages (from pandas_profiling) (1.4.2)\n",
      "Requirement already satisfied: markupsafe~=2.0.1 in d:\\anaconda3\\lib\\site-packages (from pandas_profiling) (2.0.1)\n",
      "Requirement already satisfied: joblib~=1.0.1 in d:\\anaconda3\\lib\\site-packages (from pandas_profiling) (1.0.1)\n",
      "Requirement already satisfied: jinja2>=2.11.1 in d:\\anaconda3\\lib\\site-packages (from pandas_profiling) (2.11.3)\n",
      "Requirement already satisfied: PyYAML>=5.0.0 in d:\\anaconda3\\lib\\site-packages (from pandas_profiling) (6.0)\n",
      "Requirement already satisfied: htmlmin>=0.1.12 in d:\\anaconda3\\lib\\site-packages (from pandas_profiling) (0.1.12)\n",
      "Requirement already satisfied: pydantic>=1.8.1 in d:\\anaconda3\\lib\\site-packages (from pandas_profiling) (1.9.0)\n",
      "Requirement already satisfied: matplotlib>=3.2.0 in d:\\anaconda3\\lib\\site-packages (from pandas_profiling) (3.5.1)\n",
      "Requirement already satisfied: phik>=0.11.1 in d:\\anaconda3\\lib\\site-packages (from pandas_profiling) (0.12.2)\n",
      "Requirement already satisfied: scipy>=1.4.1 in d:\\anaconda3\\lib\\site-packages (from pandas_profiling) (1.7.3)\n",
      "Requirement already satisfied: networkx>=2.4 in d:\\anaconda3\\lib\\site-packages (from visions[type_image_path]==0.7.4->pandas_profiling) (2.7.1)\n",
      "Requirement already satisfied: attrs>=19.3.0 in d:\\anaconda3\\lib\\site-packages (from visions[type_image_path]==0.7.4->pandas_profiling) (21.4.0)\n",
      "Requirement already satisfied: Pillow in d:\\anaconda3\\lib\\site-packages (from visions[type_image_path]==0.7.4->pandas_profiling) (9.0.1)\n",
      "Requirement already satisfied: imagehash in d:\\anaconda3\\lib\\site-packages (from visions[type_image_path]==0.7.4->pandas_profiling) (4.2.1)\n",
      "Requirement already satisfied: fonttools>=4.22.0 in d:\\anaconda3\\lib\\site-packages (from matplotlib>=3.2.0->pandas_profiling) (4.25.0)\n",
      "Requirement already satisfied: pyparsing>=2.2.1 in d:\\anaconda3\\lib\\site-packages (from matplotlib>=3.2.0->pandas_profiling) (3.0.4)\n",
      "Requirement already satisfied: kiwisolver>=1.0.1 in d:\\anaconda3\\lib\\site-packages (from matplotlib>=3.2.0->pandas_profiling) (1.3.2)\n",
      "Requirement already satisfied: packaging>=20.0 in d:\\anaconda3\\lib\\site-packages (from matplotlib>=3.2.0->pandas_profiling) (21.3)\n",
      "Requirement already satisfied: cycler>=0.10 in d:\\anaconda3\\lib\\site-packages (from matplotlib>=3.2.0->pandas_profiling) (0.11.0)\n",
      "Requirement already satisfied: python-dateutil>=2.7 in d:\\anaconda3\\lib\\site-packages (from matplotlib>=3.2.0->pandas_profiling) (2.8.2)\n",
      "Requirement already satisfied: pytz>=2020.1 in d:\\anaconda3\\lib\\site-packages (from pandas!=1.0.0,!=1.0.1,!=1.0.2,!=1.1.0,>=0.25.3->pandas_profiling) (2021.3)\n",
      "Requirement already satisfied: typing-extensions>=3.7.4.3 in d:\\anaconda3\\lib\\site-packages (from pydantic>=1.8.1->pandas_profiling) (4.1.1)\n",
      "Requirement already satisfied: idna<4,>=2.5 in d:\\anaconda3\\lib\\site-packages (from requests>=2.24.0->pandas_profiling) (3.3)\n",
      "Requirement already satisfied: charset-normalizer~=2.0.0 in d:\\anaconda3\\lib\\site-packages (from requests>=2.24.0->pandas_profiling) (2.0.4)\n",
      "Requirement already satisfied: certifi>=2017.4.17 in d:\\anaconda3\\lib\\site-packages (from requests>=2.24.0->pandas_profiling) (2021.10.8)\n",
      "Requirement already satisfied: urllib3<1.27,>=1.21.1 in d:\\anaconda3\\lib\\site-packages (from requests>=2.24.0->pandas_profiling) (1.26.9)\n",
      "Requirement already satisfied: colorama in d:\\anaconda3\\lib\\site-packages (from tqdm>=4.48.2->pandas_profiling) (0.4.4)\n",
      "Requirement already satisfied: six>=1.5 in d:\\anaconda3\\lib\\site-packages (from python-dateutil>=2.7->matplotlib>=3.2.0->pandas_profiling) (1.16.0)\n",
      "Requirement already satisfied: PyWavelets in d:\\anaconda3\\lib\\site-packages (from imagehash->visions[type_image_path]==0.7.4->pandas_profiling) (1.3.0)\n",
      "Note: you may need to restart the kernel to use updated packages.\n"
     ]
    },
    {
     "name": "stderr",
     "output_type": "stream",
     "text": [
      "WARNING: You are using pip version 22.0.3; however, version 22.1.1 is available.\n",
      "You should consider upgrading via the 'D:\\anaconda3\\python.exe -m pip install --upgrade pip' command.\n"
     ]
    }
   ],
   "source": [
    "pip install pandas_profiling"
   ]
  },
  {
   "cell_type": "code",
   "execution_count": 8,
   "id": "236acaf7",
   "metadata": {},
   "outputs": [],
   "source": [
    "import pandas as pd\n",
    "import numpy as np\n",
    "import matplotlib.pyplot as plt\n",
    "import seaborn as sns\n",
    "import pickle\n",
    "\n",
    "%matplotlib inline"
   ]
  },
  {
   "cell_type": "code",
   "execution_count": 3,
   "id": "7cc03321",
   "metadata": {},
   "outputs": [],
   "source": [
    "data = pd.read_csv('dataset/Placement_Data_Full_Class.csv')\n",
    "\n",
    "# Remove serial number\n",
    "data.drop('sl_no', axis=1, inplace=True)"
   ]
  },
  {
   "cell_type": "markdown",
   "id": "dcde0e96",
   "metadata": {},
   "source": [
    "### Examining Dataset"
   ]
  },
  {
   "cell_type": "code",
   "execution_count": 4,
   "id": "576ddbec",
   "metadata": {
    "scrolled": false
   },
   "outputs": [
    {
     "data": {
      "text/html": [
       "<div>\n",
       "<style scoped>\n",
       "    .dataframe tbody tr th:only-of-type {\n",
       "        vertical-align: middle;\n",
       "    }\n",
       "\n",
       "    .dataframe tbody tr th {\n",
       "        vertical-align: top;\n",
       "    }\n",
       "\n",
       "    .dataframe thead th {\n",
       "        text-align: right;\n",
       "    }\n",
       "</style>\n",
       "<table border=\"1\" class=\"dataframe\">\n",
       "  <thead>\n",
       "    <tr style=\"text-align: right;\">\n",
       "      <th></th>\n",
       "      <th>gender</th>\n",
       "      <th>ssc_p</th>\n",
       "      <th>ssc_b</th>\n",
       "      <th>hsc_p</th>\n",
       "      <th>hsc_b</th>\n",
       "      <th>hsc_s</th>\n",
       "      <th>degree_p</th>\n",
       "      <th>degree_t</th>\n",
       "      <th>workex</th>\n",
       "      <th>etest_p</th>\n",
       "      <th>specialisation</th>\n",
       "      <th>mba_p</th>\n",
       "      <th>status</th>\n",
       "      <th>salary</th>\n",
       "    </tr>\n",
       "  </thead>\n",
       "  <tbody>\n",
       "    <tr>\n",
       "      <th>0</th>\n",
       "      <td>M</td>\n",
       "      <td>67.00</td>\n",
       "      <td>Others</td>\n",
       "      <td>91.00</td>\n",
       "      <td>Others</td>\n",
       "      <td>Commerce</td>\n",
       "      <td>58.00</td>\n",
       "      <td>Sci&amp;Tech</td>\n",
       "      <td>No</td>\n",
       "      <td>55.0</td>\n",
       "      <td>Mkt&amp;HR</td>\n",
       "      <td>58.80</td>\n",
       "      <td>Placed</td>\n",
       "      <td>270000.0</td>\n",
       "    </tr>\n",
       "    <tr>\n",
       "      <th>1</th>\n",
       "      <td>M</td>\n",
       "      <td>79.33</td>\n",
       "      <td>Central</td>\n",
       "      <td>78.33</td>\n",
       "      <td>Others</td>\n",
       "      <td>Science</td>\n",
       "      <td>77.48</td>\n",
       "      <td>Sci&amp;Tech</td>\n",
       "      <td>Yes</td>\n",
       "      <td>86.5</td>\n",
       "      <td>Mkt&amp;Fin</td>\n",
       "      <td>66.28</td>\n",
       "      <td>Placed</td>\n",
       "      <td>200000.0</td>\n",
       "    </tr>\n",
       "    <tr>\n",
       "      <th>2</th>\n",
       "      <td>M</td>\n",
       "      <td>65.00</td>\n",
       "      <td>Central</td>\n",
       "      <td>68.00</td>\n",
       "      <td>Central</td>\n",
       "      <td>Arts</td>\n",
       "      <td>64.00</td>\n",
       "      <td>Comm&amp;Mgmt</td>\n",
       "      <td>No</td>\n",
       "      <td>75.0</td>\n",
       "      <td>Mkt&amp;Fin</td>\n",
       "      <td>57.80</td>\n",
       "      <td>Placed</td>\n",
       "      <td>250000.0</td>\n",
       "    </tr>\n",
       "    <tr>\n",
       "      <th>3</th>\n",
       "      <td>M</td>\n",
       "      <td>56.00</td>\n",
       "      <td>Central</td>\n",
       "      <td>52.00</td>\n",
       "      <td>Central</td>\n",
       "      <td>Science</td>\n",
       "      <td>52.00</td>\n",
       "      <td>Sci&amp;Tech</td>\n",
       "      <td>No</td>\n",
       "      <td>66.0</td>\n",
       "      <td>Mkt&amp;HR</td>\n",
       "      <td>59.43</td>\n",
       "      <td>Not Placed</td>\n",
       "      <td>NaN</td>\n",
       "    </tr>\n",
       "    <tr>\n",
       "      <th>4</th>\n",
       "      <td>M</td>\n",
       "      <td>85.80</td>\n",
       "      <td>Central</td>\n",
       "      <td>73.60</td>\n",
       "      <td>Central</td>\n",
       "      <td>Commerce</td>\n",
       "      <td>73.30</td>\n",
       "      <td>Comm&amp;Mgmt</td>\n",
       "      <td>No</td>\n",
       "      <td>96.8</td>\n",
       "      <td>Mkt&amp;Fin</td>\n",
       "      <td>55.50</td>\n",
       "      <td>Placed</td>\n",
       "      <td>425000.0</td>\n",
       "    </tr>\n",
       "  </tbody>\n",
       "</table>\n",
       "</div>"
      ],
      "text/plain": [
       "  gender  ssc_p    ssc_b  hsc_p    hsc_b     hsc_s  degree_p   degree_t  \\\n",
       "0      M  67.00   Others  91.00   Others  Commerce     58.00   Sci&Tech   \n",
       "1      M  79.33  Central  78.33   Others   Science     77.48   Sci&Tech   \n",
       "2      M  65.00  Central  68.00  Central      Arts     64.00  Comm&Mgmt   \n",
       "3      M  56.00  Central  52.00  Central   Science     52.00   Sci&Tech   \n",
       "4      M  85.80  Central  73.60  Central  Commerce     73.30  Comm&Mgmt   \n",
       "\n",
       "  workex  etest_p specialisation  mba_p      status    salary  \n",
       "0     No     55.0         Mkt&HR  58.80      Placed  270000.0  \n",
       "1    Yes     86.5        Mkt&Fin  66.28      Placed  200000.0  \n",
       "2     No     75.0        Mkt&Fin  57.80      Placed  250000.0  \n",
       "3     No     66.0         Mkt&HR  59.43  Not Placed       NaN  \n",
       "4     No     96.8        Mkt&Fin  55.50      Placed  425000.0  "
      ]
     },
     "execution_count": 4,
     "metadata": {},
     "output_type": "execute_result"
    }
   ],
   "source": [
    "data.head()"
   ]
  },
  {
   "cell_type": "markdown",
   "id": "b4fe0ace",
   "metadata": {},
   "source": [
    "Inference:\n",
    "- We have **Gender** and **Educational qualification** data\n",
    "- We have all the **educational performance (score) data.\n",
    "- We have the **status of placement** and **salary details**.\n",
    "- We can expect **null values in salary** as candidates who weren't placed would have no salary.\n",
    "- **Status of placement is our target variable**, rest of them are independent variable except salary."
   ]
  },
  {
   "cell_type": "code",
   "execution_count": 5,
   "id": "f65dc674",
   "metadata": {},
   "outputs": [
    {
     "name": "stdout",
     "output_type": "stream",
     "text": [
      "The shape of the data is (row, column): (215, 14)\n",
      "<class 'pandas.core.frame.DataFrame'>\n",
      "RangeIndex: 215 entries, 0 to 214\n",
      "Data columns (total 14 columns):\n",
      " #   Column          Non-Null Count  Dtype  \n",
      "---  ------          --------------  -----  \n",
      " 0   gender          215 non-null    object \n",
      " 1   ssc_p           215 non-null    float64\n",
      " 2   ssc_b           215 non-null    object \n",
      " 3   hsc_p           215 non-null    float64\n",
      " 4   hsc_b           215 non-null    object \n",
      " 5   hsc_s           215 non-null    object \n",
      " 6   degree_p        215 non-null    float64\n",
      " 7   degree_t        215 non-null    object \n",
      " 8   workex          215 non-null    object \n",
      " 9   etest_p         215 non-null    float64\n",
      " 10  specialisation  215 non-null    object \n",
      " 11  mba_p           215 non-null    float64\n",
      " 12  status          215 non-null    object \n",
      " 13  salary          148 non-null    float64\n",
      "dtypes: float64(6), object(8)\n",
      "memory usage: 23.6+ KB\n",
      "None\n"
     ]
    }
   ],
   "source": [
    "print('The shape of the data is (row, column): '+ str(data.shape))\n",
    "print(data.info())"
   ]
  },
  {
   "cell_type": "code",
   "execution_count": 9,
   "id": "2b30478e",
   "metadata": {},
   "outputs": [],
   "source": [
    "# report = data.profile_report(title='Campus Placement Data - Report',\n",
    "#                              progress_bar = False)\n",
    "\n",
    "# report\n",
    "\n",
    "# report.to_file(output_file='output.html')"
   ]
  },
  {
   "cell_type": "markdown",
   "id": "0cb73b56",
   "metadata": {},
   "source": [
    "### Data Cleaning / Handling Missing Values"
   ]
  },
  {
   "cell_type": "code",
   "execution_count": 10,
   "id": "8db22577",
   "metadata": {},
   "outputs": [
    {
     "name": "stdout",
     "output_type": "stream",
     "text": [
      "Salary column with null values: \n",
      "0\n"
     ]
    }
   ],
   "source": [
    "data['salary'].fillna(value=0, inplace=True)\n",
    "print('Salary column with null values: ',\n",
    "      data['salary'].isnull().sum(), sep='\\n')"
   ]
  },
  {
   "cell_type": "markdown",
   "id": "eb906490",
   "metadata": {},
   "source": [
    "### Exploring Data by Each Features (Optional)"
   ]
  },
  {
   "cell_type": "code",
   "execution_count": 11,
   "id": "77576ecc",
   "metadata": {},
   "outputs": [
    {
     "data": {
      "text/plain": [
       "M    139\n",
       "F     76\n",
       "Name: gender, dtype: int64"
      ]
     },
     "execution_count": 11,
     "metadata": {},
     "output_type": "execute_result"
    }
   ],
   "source": [
    "\"\"\"\n",
    "Feature: Gender\n",
    "\n",
    "Does gender affect placements?\n",
    "\"\"\"\n",
    "\n",
    "data.gender.value_counts()"
   ]
  },
  {
   "cell_type": "code",
   "execution_count": 12,
   "id": "d64dc89f",
   "metadata": {},
   "outputs": [
    {
     "name": "stderr",
     "output_type": "stream",
     "text": [
      "D:\\anaconda3\\lib\\site-packages\\seaborn\\_decorators.py:36: FutureWarning: Pass the following variable as a keyword arg: x. From version 0.12, the only valid positional argument will be `data`, and passing other arguments without an explicit keyword will result in an error or misinterpretation.\n",
      "  warnings.warn(\n"
     ]
    },
    {
     "data": {
      "image/png": "[encoded data removed]",
      "text/plain": [
       "<Figure size 432x288 with 1 Axes>"
      ]
     },
     "metadata": {
      "needs_background": "light"
     },
     "output_type": "display_data"
    }
   ],
   "source": [
    "sns.countplot('gender', hue='status', data=data)\n",
    "plt.show()"
   ]
  },
  {
   "cell_type": "code",
   "execution_count": 13,
   "id": "57942e00",
   "metadata": {
    "scrolled": true
   },
   "outputs": [
    {
     "data": {
      "image/png": "[encoded data removed]",
      "text/plain": [
       "<Figure size 432x288 with 1 Axes>"
      ]
     },
     "metadata": {
      "needs_background": "light"
     },
     "output_type": "display_data"
    }
   ],
   "source": [
    "sns.kdeplot(data.salary[data.gender == 'M'])\n",
    "sns.kdeplot(data.salary[data.gender == 'F'])\n",
    "plt.legend(['Male', 'Female'])\n",
    "plt.xlabel('Salary (100k)')\n",
    "plt.show()"
   ]
  },
  {
   "cell_type": "code",
   "execution_count": 14,
   "id": "b9127710",
   "metadata": {},
   "outputs": [
    {
     "name": "stderr",
     "output_type": "stream",
     "text": [
      "D:\\anaconda3\\lib\\site-packages\\seaborn\\_decorators.py:36: FutureWarning: Pass the following variables as keyword args: x, y. From version 0.12, the only valid positional argument will be `data`, and passing other arguments without an explicit keyword will result in an error or misinterpretation.\n",
      "  warnings.warn(\n"
     ]
    },
    {
     "data": {
      "image/png": "[encoded data removed]",
      "text/plain": [
       "<Figure size 1296x432 with 1 Axes>"
      ]
     },
     "metadata": {
      "needs_background": "light"
     },
     "output_type": "display_data"
    }
   ],
   "source": [
    "plt.figure(figsize = (18, 6))\n",
    "sns.boxplot(\"salary\", \"gender\", data = data)\n",
    "plt.show()"
   ]
  },
  {
   "cell_type": "markdown",
   "id": "ff09c701",
   "metadata": {},
   "source": [
    "Insights:\n",
    "- We have samples of 139 Male students and 76 Female students.\n",
    "- 30 Female and 40 Male students are not placed. Male students have comparatively higher placements.\n",
    "- Male students are offered slightly greater salary than female on an average."
   ]
  },
  {
   "cell_type": "code",
   "execution_count": 15,
   "id": "e13de1df",
   "metadata": {},
   "outputs": [
    {
     "data": {
      "image/png": "[encoded data removed]",
      "text/plain": [
       "<Figure size 432x288 with 1 Axes>"
      ]
     },
     "metadata": {
      "needs_background": "light"
     },
     "output_type": "display_data"
    }
   ],
   "source": [
    "\"\"\"\n",
    "Feature: ssc_p (Secondary Education percentage), ssc_b (Board Of Education)\n",
    "\n",
    "Does Secondary Education affect placements?\n",
    "\"\"\"\n",
    "sns.kdeplot(data.ssc_p[data.status == \"Placed\"])\n",
    "sns.kdeplot(data.ssc_p[data.status == \"Not Placed\"])\n",
    "plt.legend([\"Placed\", \"Not Placed\"])\n",
    "plt.xlabel(\"Secondary Education Percentage\")\n",
    "plt.show()"
   ]
  },
  {
   "cell_type": "markdown",
   "id": "5ada7725",
   "metadata": {},
   "source": [
    "- All students with Secondary Education Percentage above 90% are placed.\n",
    "- All students with Secondary Education Percentage below 50% are not placed.\n",
    "- Students with good Secondary Education Percentage are placed on average."
   ]
  },
  {
   "cell_type": "code",
   "execution_count": 16,
   "id": "907498ae",
   "metadata": {},
   "outputs": [
    {
     "name": "stderr",
     "output_type": "stream",
     "text": [
      "D:\\anaconda3\\lib\\site-packages\\seaborn\\_decorators.py:36: FutureWarning: Pass the following variable as a keyword arg: x. From version 0.12, the only valid positional argument will be `data`, and passing other arguments without an explicit keyword will result in an error or misinterpretation.\n",
      "  warnings.warn(\n"
     ]
    },
    {
     "data": {
      "image/png": "[encoded data removed]",
      "text/plain": [
       "<Figure size 432x288 with 1 Axes>"
      ]
     },
     "metadata": {
      "needs_background": "light"
     },
     "output_type": "display_data"
    }
   ],
   "source": [
    "sns.countplot(\"ssc_b\", hue=\"status\", data=data)\n",
    "plt.show()"
   ]
  },
  {
   "cell_type": "markdown",
   "id": "c2d81091",
   "metadata": {},
   "source": [
    "Board of Education tidak banyak mempengaruhi Placement Status."
   ]
  },
  {
   "cell_type": "code",
   "execution_count": 17,
   "id": "115ec921",
   "metadata": {},
   "outputs": [
    {
     "name": "stderr",
     "output_type": "stream",
     "text": [
      "D:\\anaconda3\\lib\\site-packages\\seaborn\\_decorators.py:36: FutureWarning: Pass the following variables as keyword args: x, y. From version 0.12, the only valid positional argument will be `data`, and passing other arguments without an explicit keyword will result in an error or misinterpretation.\n",
      "  warnings.warn(\n"
     ]
    },
    {
     "data": {
      "image/png": "[encoded data removed]",
      "text/plain": [
       "<Figure size 1296x432 with 1 Axes>"
      ]
     },
     "metadata": {
      "needs_background": "light"
     },
     "output_type": "display_data"
    }
   ],
   "source": [
    "plt.figure(figsize = (18, 6))\n",
    "sns.boxplot(\"salary\", \"ssc_b\", data=data)\n",
    "plt.show()"
   ]
  },
  {
   "cell_type": "markdown",
   "id": "e63e71a5",
   "metadata": {},
   "source": [
    "Outliers terdapat pada keduanya, tetapi siswa dari Central Board mendapatkan pekerjaan bergaji tinggi."
   ]
  },
  {
   "cell_type": "code",
   "execution_count": 18,
   "id": "5f586b34",
   "metadata": {},
   "outputs": [
    {
     "name": "stderr",
     "output_type": "stream",
     "text": [
      "D:\\anaconda3\\lib\\site-packages\\seaborn\\_decorators.py:36: FutureWarning: Pass the following variables as keyword args: x, y. From version 0.12, the only valid positional argument will be `data`, and passing other arguments without an explicit keyword will result in an error or misinterpretation.\n",
      "  warnings.warn(\n"
     ]
    },
    {
     "data": {
      "image/png": "[encoded data removed]",
      "text/plain": [
       "<Figure size 432x288 with 1 Axes>"
      ]
     },
     "metadata": {
      "needs_background": "light"
     },
     "output_type": "display_data"
    }
   ],
   "source": [
    "sns.lineplot(\"ssc_p\", \"salary\", hue=\"ssc_b\", data=data)\n",
    "plt.show()"
   ]
  },
  {
   "cell_type": "markdown",
   "id": "192ee20e",
   "metadata": {},
   "source": [
    "Tidak ada pola khusus (correlation) antara Secondary Education Percentage dan Salary. Board of Education tidak mempengaruhi Gaji.\n",
    "\n",
    "Kita dapat membuat grafik sendiri dari sini."
   ]
  },
  {
   "cell_type": "code",
   "execution_count": 19,
   "id": "78289848",
   "metadata": {},
   "outputs": [
    {
     "data": {
      "image/png": "[encoded data removed]",
      "text/plain": [
       "<Figure size 432x432 with 3 Axes>"
      ]
     },
     "metadata": {},
     "output_type": "display_data"
    }
   ],
   "source": [
    "sns.set(rc={'figure.figsize':(12, 8)})\n",
    "sns.set(style=\"white\", color_codes=True)\n",
    "sns.jointplot(x=data[\"etest_p\"], \n",
    "              y=data[\"salary\"], \n",
    "              kind='kde', \n",
    "              color=\"skyblue\")\n",
    "\n",
    "plt.show()"
   ]
  },
  {
   "cell_type": "markdown",
   "id": "9c88fc30",
   "metadata": {},
   "source": [
    "- Most of the candidates scored around 60 percentage got a decent package of around 3 lakhs PA.\n",
    "- Not many candidates received salary more than 4 lakha PA.\n",
    "- The bottom dense part shows the candidates who were not placed."
   ]
  },
  {
   "cell_type": "code",
   "execution_count": 20,
   "id": "7e8227b5",
   "metadata": {},
   "outputs": [
    {
     "name": "stderr",
     "output_type": "stream",
     "text": [
      "D:\\anaconda3\\lib\\site-packages\\seaborn\\distributions.py:2619: FutureWarning: `distplot` is a deprecated function and will be removed in a future version. Please adapt your code to use either `displot` (a figure-level function with similar flexibility) or `histplot` (an axes-level function for histograms).\n",
      "  warnings.warn(msg, FutureWarning)\n",
      "D:\\anaconda3\\lib\\site-packages\\seaborn\\distributions.py:2619: FutureWarning: `distplot` is a deprecated function and will be removed in a future version. Please adapt your code to use either `displot` (a figure-level function with similar flexibility) or `histplot` (an axes-level function for histograms).\n",
      "  warnings.warn(msg, FutureWarning)\n",
      "D:\\anaconda3\\lib\\site-packages\\seaborn\\distributions.py:2619: FutureWarning: `distplot` is a deprecated function and will be removed in a future version. Please adapt your code to use either `displot` (a figure-level function with similar flexibility) or `histplot` (an axes-level function for histograms).\n",
      "  warnings.warn(msg, FutureWarning)\n",
      "D:\\anaconda3\\lib\\site-packages\\seaborn\\distributions.py:2619: FutureWarning: `distplot` is a deprecated function and will be removed in a future version. Please adapt your code to use either `displot` (a figure-level function with similar flexibility) or `histplot` (an axes-level function for histograms).\n",
      "  warnings.warn(msg, FutureWarning)\n",
      "D:\\anaconda3\\lib\\site-packages\\seaborn\\distributions.py:2619: FutureWarning: `distplot` is a deprecated function and will be removed in a future version. Please adapt your code to use either `displot` (a figure-level function with similar flexibility) or `histplot` (an axes-level function for histograms).\n",
      "  warnings.warn(msg, FutureWarning)\n",
      "D:\\anaconda3\\lib\\site-packages\\seaborn\\distributions.py:2619: FutureWarning: `distplot` is a deprecated function and will be removed in a future version. Please adapt your code to use either `displot` (a figure-level function with similar flexibility) or `histplot` (an axes-level function for histograms).\n",
      "  warnings.warn(msg, FutureWarning)\n"
     ]
    },
    {
     "data": {
      "image/png": "[encoded data removed]",
      "text/plain": [
       "<Figure size 720x720 with 6 Axes>"
      ]
     },
     "metadata": {},
     "output_type": "display_data"
    }
   ],
   "source": [
    "plt.figure(figsize = (15, 7))\n",
    "plt.style.use('seaborn-white')\n",
    "plt.subplot(231)\n",
    "sns.distplot(data['ssc_p'])\n",
    "fig = plt.gcf()\n",
    "fig.set_size_inches(10,10)\n",
    "\n",
    "plt.subplot(232)\n",
    "sns.distplot(data['hsc_p'])\n",
    "fig = plt.gcf()\n",
    "fig.set_size_inches(10,10)\n",
    "\n",
    "plt.subplot(233)\n",
    "sns.distplot(data['degree_p'])\n",
    "fig = plt.gcf()\n",
    "fig.set_size_inches(10,10)\n",
    "\n",
    "plt.subplot(234)\n",
    "sns.distplot(data['etest_p'])\n",
    "fig = plt.gcf()\n",
    "fig.set_size_inches(10,10)\n",
    "\n",
    "plt.subplot(235)\n",
    "sns.distplot(data['mba_p'])\n",
    "fig = plt.gcf()\n",
    "fig.set_size_inches(10,10)\n",
    "\n",
    "plt.subplot(236)\n",
    "sns.distplot(data['salary'])\n",
    "fig = plt.gcf()\n",
    "fig.set_size_inches(10,10)"
   ]
  },
  {
   "cell_type": "markdown",
   "id": "88906d05",
   "metadata": {},
   "source": [
    "- All the distributions follow normal distribution except salary feature.\n",
    "- Most of the candidates educational performance are between 60-80%.\n",
    "- Salary distribution got outliers where few have got salary of 7.5L and 10L PA."
   ]
  },
  {
   "cell_type": "code",
   "execution_count": 21,
   "id": "cda55b1c",
   "metadata": {},
   "outputs": [
    {
     "data": {
      "image/png": "[encoded data removed]",
      "text/plain": [
       "<Figure size 1296x576 with 2 Axes>"
      ]
     },
     "metadata": {},
     "output_type": "display_data"
    }
   ],
   "source": [
    "plt.style.use('seaborn-white')\n",
    "f,ax=plt.subplots(1,2,figsize=(18,8))\n",
    "data['workex'].value_counts().plot.pie(explode=[0,0.05], \n",
    "                                       autopct='%1.1f%%', \n",
    "                                       ax=ax[0], \n",
    "                                       shadow=True)\n",
    "ax[0].set_title('Work experience')\n",
    "sns.countplot(x = 'workex',hue = \"status\",data = data)\n",
    "ax[1].set_title('Influence of experience on placement')\n",
    "\n",
    "plt.show()"
   ]
  },
  {
   "cell_type": "markdown",
   "id": "b4d62a5c",
   "metadata": {},
   "source": [
    "- Kita memiliki hampir 66.2% dari jumlah kandidat yang belum pernah memiliki pengalaman bekerja.\n",
    "- Para kandidat yang belum pernah memiliki pengalaman bekerja lebih banyak yang diperkejakan dibandingkan yang memiliki pengalaman bekerja.\n",
    "- Dapat disimpulkan bahwa pengalaman bekerja tidak memengaruhi kandidat dalam proses penerimaan."
   ]
  },
  {
   "cell_type": "markdown",
   "id": "0d167477",
   "metadata": {},
   "source": [
    "### Preprocessing data for classification models"
   ]
  },
  {
   "cell_type": "code",
   "execution_count": 22,
   "id": "91fb233c",
   "metadata": {},
   "outputs": [
    {
     "data": {
      "text/html": [
       "<div>\n",
       "<style scoped>\n",
       "    .dataframe tbody tr th:only-of-type {\n",
       "        vertical-align: middle;\n",
       "    }\n",
       "\n",
       "    .dataframe tbody tr th {\n",
       "        vertical-align: top;\n",
       "    }\n",
       "\n",
       "    .dataframe thead th {\n",
       "        text-align: right;\n",
       "    }\n",
       "</style>\n",
       "<table border=\"1\" class=\"dataframe\">\n",
       "  <thead>\n",
       "    <tr style=\"text-align: right;\">\n",
       "      <th></th>\n",
       "      <th>gender</th>\n",
       "      <th>ssc_p</th>\n",
       "      <th>ssc_b</th>\n",
       "      <th>hsc_p</th>\n",
       "      <th>hsc_b</th>\n",
       "      <th>hsc_s</th>\n",
       "      <th>degree_p</th>\n",
       "      <th>degree_t</th>\n",
       "      <th>workex</th>\n",
       "      <th>etest_p</th>\n",
       "      <th>specialisation</th>\n",
       "      <th>mba_p</th>\n",
       "      <th>status</th>\n",
       "      <th>salary</th>\n",
       "    </tr>\n",
       "  </thead>\n",
       "  <tbody>\n",
       "    <tr>\n",
       "      <th>0</th>\n",
       "      <td>1</td>\n",
       "      <td>67.00</td>\n",
       "      <td>Others</td>\n",
       "      <td>91.00</td>\n",
       "      <td>Others</td>\n",
       "      <td>Commerce</td>\n",
       "      <td>58.00</td>\n",
       "      <td>Sci&amp;Tech</td>\n",
       "      <td>0</td>\n",
       "      <td>55.0</td>\n",
       "      <td>1</td>\n",
       "      <td>58.80</td>\n",
       "      <td>1</td>\n",
       "      <td>270000.0</td>\n",
       "    </tr>\n",
       "    <tr>\n",
       "      <th>1</th>\n",
       "      <td>1</td>\n",
       "      <td>79.33</td>\n",
       "      <td>Central</td>\n",
       "      <td>78.33</td>\n",
       "      <td>Others</td>\n",
       "      <td>Science</td>\n",
       "      <td>77.48</td>\n",
       "      <td>Sci&amp;Tech</td>\n",
       "      <td>1</td>\n",
       "      <td>86.5</td>\n",
       "      <td>0</td>\n",
       "      <td>66.28</td>\n",
       "      <td>1</td>\n",
       "      <td>200000.0</td>\n",
       "    </tr>\n",
       "    <tr>\n",
       "      <th>2</th>\n",
       "      <td>1</td>\n",
       "      <td>65.00</td>\n",
       "      <td>Central</td>\n",
       "      <td>68.00</td>\n",
       "      <td>Central</td>\n",
       "      <td>Arts</td>\n",
       "      <td>64.00</td>\n",
       "      <td>Comm&amp;Mgmt</td>\n",
       "      <td>0</td>\n",
       "      <td>75.0</td>\n",
       "      <td>0</td>\n",
       "      <td>57.80</td>\n",
       "      <td>1</td>\n",
       "      <td>250000.0</td>\n",
       "    </tr>\n",
       "    <tr>\n",
       "      <th>3</th>\n",
       "      <td>1</td>\n",
       "      <td>56.00</td>\n",
       "      <td>Central</td>\n",
       "      <td>52.00</td>\n",
       "      <td>Central</td>\n",
       "      <td>Science</td>\n",
       "      <td>52.00</td>\n",
       "      <td>Sci&amp;Tech</td>\n",
       "      <td>0</td>\n",
       "      <td>66.0</td>\n",
       "      <td>1</td>\n",
       "      <td>59.43</td>\n",
       "      <td>0</td>\n",
       "      <td>0.0</td>\n",
       "    </tr>\n",
       "    <tr>\n",
       "      <th>4</th>\n",
       "      <td>1</td>\n",
       "      <td>85.80</td>\n",
       "      <td>Central</td>\n",
       "      <td>73.60</td>\n",
       "      <td>Central</td>\n",
       "      <td>Commerce</td>\n",
       "      <td>73.30</td>\n",
       "      <td>Comm&amp;Mgmt</td>\n",
       "      <td>0</td>\n",
       "      <td>96.8</td>\n",
       "      <td>0</td>\n",
       "      <td>55.50</td>\n",
       "      <td>1</td>\n",
       "      <td>425000.0</td>\n",
       "    </tr>\n",
       "  </tbody>\n",
       "</table>\n",
       "</div>"
      ],
      "text/plain": [
       "   gender  ssc_p    ssc_b  hsc_p    hsc_b     hsc_s  degree_p   degree_t  \\\n",
       "0       1  67.00   Others  91.00   Others  Commerce     58.00   Sci&Tech   \n",
       "1       1  79.33  Central  78.33   Others   Science     77.48   Sci&Tech   \n",
       "2       1  65.00  Central  68.00  Central      Arts     64.00  Comm&Mgmt   \n",
       "3       1  56.00  Central  52.00  Central   Science     52.00   Sci&Tech   \n",
       "4       1  85.80  Central  73.60  Central  Commerce     73.30  Comm&Mgmt   \n",
       "\n",
       "   workex  etest_p  specialisation  mba_p  status    salary  \n",
       "0       0     55.0               1  58.80       1  270000.0  \n",
       "1       1     86.5               0  66.28       1  200000.0  \n",
       "2       0     75.0               0  57.80       1  250000.0  \n",
       "3       0     66.0               1  59.43       0       0.0  \n",
       "4       0     96.8               0  55.50       1  425000.0  "
      ]
     },
     "execution_count": 22,
     "metadata": {},
     "output_type": "execute_result"
    }
   ],
   "source": [
    "from sklearn.preprocessing import LabelEncoder\n",
    "\n",
    "object_cols = ['gender', 'workex', 'specialisation', 'status']\n",
    "label_encoder = LabelEncoder()\n",
    "for col in object_cols:\n",
    "    data[col] = label_encoder.fit_transform(data[col])\n",
    "data.head()"
   ]
  },
  {
   "cell_type": "code",
   "execution_count": 23,
   "id": "312b051b",
   "metadata": {},
   "outputs": [],
   "source": [
    "# Library Imports\n",
    "from sklearn.tree import DecisionTreeClassifier\n",
    "from sklearn.ensemble import RandomForestClassifier\n",
    "from sklearn.linear_model import LogisticRegression\n",
    "\n",
    "from sklearn.model_selection import train_test_split\n",
    "from sklearn.metrics import accuracy_score, classification_report"
   ]
  },
  {
   "cell_type": "code",
   "execution_count": 24,
   "id": "f78c420c",
   "metadata": {},
   "outputs": [],
   "source": [
    "# Separating Features and Target\n",
    "X = data[['ssc_p', 'hsc_p', 'degree_p', 'etest_p']]\n",
    "y = data['status']"
   ]
  },
  {
   "cell_type": "code",
   "execution_count": 25,
   "id": "a56fcea4",
   "metadata": {},
   "outputs": [],
   "source": [
    "# Train Test Split\n",
    "X_train, X_test, y_train, y_test = train_test_split(X, y, test_size=0.3, random_state=4)"
   ]
  },
  {
   "cell_type": "code",
   "execution_count": 26,
   "id": "947f7366",
   "metadata": {},
   "outputs": [
    {
     "name": "stdout",
     "output_type": "stream",
     "text": [
      "Accuracy score:  0.8307692307692308\n",
      "              precision    recall  f1-score   support\n",
      "\n",
      "           0       0.76      0.65      0.70        20\n",
      "           1       0.85      0.91      0.88        45\n",
      "\n",
      "    accuracy                           0.83        65\n",
      "   macro avg       0.81      0.78      0.79        65\n",
      "weighted avg       0.83      0.83      0.83        65\n",
      "\n"
     ]
    }
   ],
   "source": [
    "# Decision Tree\n",
    "dtree = DecisionTreeClassifier(criterion='entropy')\n",
    "dtree.fit(X_train, y_train)\n",
    "\n",
    "y_pred = dtree.predict(X_test)\n",
    "\n",
    "print(\"Accuracy score: \", accuracy_score(y_test, y_pred))\n",
    "print(classification_report(y_test, y_pred))"
   ]
  },
  {
   "cell_type": "code",
   "execution_count": 27,
   "id": "a6ce03bf",
   "metadata": {},
   "outputs": [
    {
     "name": "stdout",
     "output_type": "stream",
     "text": [
      "Accuracy score:  0.8769230769230769\n",
      "              precision    recall  f1-score   support\n",
      "\n",
      "           0       0.83      0.75      0.79        20\n",
      "           1       0.89      0.93      0.91        45\n",
      "\n",
      "    accuracy                           0.88        65\n",
      "   macro avg       0.86      0.84      0.85        65\n",
      "weighted avg       0.88      0.88      0.88        65\n",
      "\n"
     ]
    }
   ],
   "source": [
    "# Random Forest\n",
    "random_forest = RandomForestClassifier(n_estimators=100)\n",
    "random_forest.fit(X_train, y_train)\n",
    "\n",
    "y_pred = random_forest.predict(X_test)\n",
    "\n",
    "print(\"Accuracy score: \", accuracy_score(y_test, y_pred))\n",
    "print(classification_report(y_test, y_pred))"
   ]
  },
  {
   "cell_type": "code",
   "execution_count": 28,
   "id": "6d731ad0",
   "metadata": {},
   "outputs": [
    {
     "name": "stdout",
     "output_type": "stream",
     "text": [
      "Accuracy score:  0.8461538461538461\n",
      "              precision    recall  f1-score   support\n",
      "\n",
      "           0       0.78      0.70      0.74        20\n",
      "           1       0.87      0.91      0.89        45\n",
      "\n",
      "    accuracy                           0.85        65\n",
      "   macro avg       0.83      0.81      0.81        65\n",
      "weighted avg       0.84      0.85      0.84        65\n",
      "\n"
     ]
    }
   ],
   "source": [
    "# Logistic Regression\n",
    "LogR = LogisticRegression(solver='lbfgs')\n",
    "LogR.fit(X_train, y_train)\n",
    "\n",
    "y_pred = LogR.predict(X_test)\n",
    "\n",
    "print(\"Accuracy score: \", accuracy_score(y_test, y_pred))\n",
    "print(classification_report(y_test, y_pred))"
   ]
  },
  {
   "cell_type": "markdown",
   "id": "24d09c96",
   "metadata": {},
   "source": [
    "### Getting Ready for Deployment"
   ]
  },
  {
   "cell_type": "markdown",
   "id": "199cd936",
   "metadata": {},
   "source": [
    "Modul pickle Python digunakan untuk serializing dan de-serializing struktur objek Python. Objek apa pun dengan Python dapat dibuat pickled sehingga dapat disimpan di disk. Apa yang dilakukan pickle adalah 'serializes' objek terlebih dahulu sebelum menulisnya ke file. Pickling adalah cara untuk mengubah objek python (list, dict, etc.) Menjadi character stream. Idenya adalah bahwa character stream ini berisi semua informasi yang diperlukan untuk merekonstruksi objek dalam skrip python lain.\n",
    "\n"
   ]
  },
  {
   "cell_type": "code",
   "execution_count": 29,
   "id": "97e93d1e",
   "metadata": {},
   "outputs": [],
   "source": [
    "pickle.dump(random_forest, open('model_classifier.pkl', 'wb'))"
   ]
  },
  {
   "cell_type": "markdown",
   "id": "f9dfa4a6",
   "metadata": {},
   "source": [
    "**Brief Introduction to HTML and CSS**\n",
    "\n",
    "HTML adalah standard markup language untuk membuat laman Web.\n",
    "\n",
    "**What is HTML?**\n",
    "- HTML stands for Hyper Text Markup Language.\n",
    "- HTML is the standard markup language for creating Web pages.\n",
    "- HTML describes the structure of a Web page.\n",
    "- HTML consists of a series of elements.\n",
    "- HTML elements tell the browser how to display the content.\n",
    "- HTML elements label pieces of content such as \"this is a heading\", \"this is a paragraph\". \"this is a link\", etc."
   ]
  },
  {
   "cell_type": "markdown",
   "id": "d536929a",
   "metadata": {},
   "source": [
    "**A Simple HTML Document**\n",
    "\n",
    "```\n",
    "<!DOCTYPE html>\n",
    "<html>\n",
    "<head>\n",
    "  <title>Page Title</title>\n",
    "</head>\n",
    "<body>\n",
    "\n",
    "  <h1>My First Heading</h1>\n",
    "  <p>My first paragraph.</p>\n",
    "\n",
    "</body>\n",
    "</html>\n",
    "```\n",
    "\n",
    "- ```<!DOCTYPE html>``` mendefinisikan bahwa dokumen ini adalah dokumen HTML5.\n",
    "- ```<html>``` elemen adalah elemen root dari halaman HTML.\n",
    "- ```<head>``` elemen berisi informasi meta tentang halaman HTML.\n",
    "- ```<title>``` elemen menentukan judul untuk halaman HTML (yang ditampilkan di judul browser atau di tab halaman).\n",
    "- ```<body>``` elemen mendefinisikan badan dokumen, dan merupakan wadah untuk semua konten yang terlihat, seperti headings, paragraphs, images, hyperlinks, tables, lists, dll.\n",
    "- ```<h1>``` elemen mendefinisikan headingbesar.\n",
    "- ```<p>``` element mendefinisikan sebuah paragraph."
   ]
  },
  {
   "cell_type": "markdown",
   "id": "8b091a64",
   "metadata": {},
   "source": [
    "**What is an HTML Element?**\n",
    "\n",
    "Elemen HTML ditentukan oleh tag awal, beberapa konten, dan tag akhir:\n",
    "\n",
    "```<tagname>Content goes here...</tagname>```\n",
    "\n",
    "Elemen HTML adalah apapun yang dimulai dari tag awal hingga tag akhir:"
   ]
  },
  {
   "cell_type": "markdown",
   "id": "1e6a9bc5",
   "metadata": {},
   "source": [
    "```\n",
    "<h1>My First Heading</h1>\n",
    "<p>My first paragraph.</p>\n",
    "```"
   ]
  },
  {
   "cell_type": "markdown",
   "id": "317709a9",
   "metadata": {},
   "source": [
    "**What is CSS?**\n",
    "\n",
    "Cascading Style Sheets (CSS) digunakan untuk memformat tata letak halaman web.\n",
    "\n",
    "Dengan CSS, kita dapat mengontrol warna, font, ukuran teks, jarak antar elemen, bagaimana elemen diposisikan dan ditata, gambar latar belakang atau warna latar yang akan digunakan, tampilan yang berbeda untuk perangkat dan ukuran layar yang berbeda, dan banyak lagi.\n",
    "\n",
    "**CSS Syntax**\n",
    "\n",
    "Set aturan CSS terdiri dari selector dan declaration block:\n",
    "\n",
    "<img src=\"https://i.ibb.co/zbJTWJ3/css.gif\" width=\"500\" align=\"center\">\n",
    "\n",
    "- The selector points to the HTML element you want to style.\n",
    "- The declaration block contains one or more declarations separated by semicolons.\n",
    "- Each declaration includes a CSS property name and a value, separated by a colon.\n",
    "- Multiple CSS declarations are separated with semicolons, and declaration blocks are surrounded by curly braces.\n",
    "\n",
    "**Using CSS**\n",
    "\n",
    "CSS dapat ditambahkan ke dokumen HTML dengan 3 cara:\n",
    "\n",
    "CSS dapat ditambahkan ke dokumen HTML dengan 3 cara:\n",
    "\n",
    "- Inline - by using the style attribute inside HTML elements\n",
    "- Internal - by using a ```<style>``` element in the ```<head>``` section\n",
    "- External - by using a ```<link>``` element to link to an external CSS file\n",
    "\n",
    "Cara paling umum untuk menambahkan CSS, adalah menempatkan style dalam file CSS eksternal."
   ]
  },
  {
   "cell_type": "markdown",
   "id": "8f46aefa",
   "metadata": {},
   "source": [
    "**Inline CSS**\n",
    "\n",
    "Inline CSS digunakan untuk menerapkan style unik ke satu elemen HTML.\n",
    "\n",
    "Inline CSS menggunakan style attribute dari elemen HTML.\n",
    "\n",
    "Contoh berikut bagaimana cara mengatur warna teks elemen ```<h1>``` menjadi biru, dan warna teks elemen ```<p>`` menjadi merah:\n",
    "\n",
    "\n",
    "```\n",
    "<h1 style=\"color:blue;\">A Blue Heading</h1>\n",
    "\n",
    "<p style=\"color:red;\">A red paragraph.</p>\n",
    "```\n",
    "\n",
    "**Internal CSS**\n",
    "\n",
    "CSS internal digunakan untuk menentukan style untuk satu halaman HTML.\n",
    "\n",
    "CSS internal ditentukan di bagian ```<head>``` halaman HTML, dalam elemen ```<style>```.\n",
    "\n",
    "Contoh berikut mengatur warna teks SEMUA elemen ```<h1>``` (pada halaman itu) menjadi biru, dan warna teks SEMUA elemen ```<p>``` menjadi merah. Selain itu, halaman akan ditampilkan dengan warna latar belakang \"powderblue\":\n",
    "    \n",
    "```\n",
    "<!DOCTYPE html>\n",
    "<html>\n",
    "<head>\n",
    "<style>\n",
    "  body {background-color: powderblue;}\n",
    "  h1   {color: blue;}\n",
    "  p    {color: red;}\n",
    "</style>\n",
    "</head>\n",
    "<body>\n",
    "\n",
    "  <h1>This is a heading</h1>\n",
    "  <p>This is a paragraph.</p>\n",
    "\n",
    "</body>\n",
    "</html>\n",
    "```\n",
    "    \n",
    "**External CSS**\n",
    "\n",
    "Style sheet eksternal digunakan untuk menentukan style untuk banyak halaman HTML.\n",
    "\n",
    "Untuk menggunakan style sheet eksternal, tambahkan link ke dalamnya di bagian ```<head>``` pada setiap halaman HTML:\n",
    "\n",
    "```\n",
    "<!DOCTYPE html>\n",
    "<html>\n",
    "<head>\n",
    "  <link rel=\"stylesheet\" href=\"styles.css\">\n",
    "</head>\n",
    "<body>\n",
    "\n",
    "  <h1>This is a heading</h1>\n",
    "  <p>This is a paragraph.</p>\n",
    "\n",
    "</body>\n",
    "</html>\n",
    "```\n",
    "\n",
    "Style sheet eksternal dapat ditulis di editor teks manapun. File tidak boleh berisi kode HTML apa pun, dan harus disimpan dengan ekstensi .css.\n",
    "\n",
    "Berikut adalah tampilan file styles.css:\n",
    "\n",
    "```\n",
    "body {\n",
    "  background-color: powderblue;\n",
    "}\n",
    "h1 {\n",
    "  color: blue;\n",
    "}\n",
    "p {\n",
    "  color: red;\n",
    "}\n",
    "```"
   ]
  },
  {
   "cell_type": "markdown",
   "id": "c3f8dce3",
   "metadata": {},
   "source": [
    "## Creating Web App with Flask"
   ]
  },
  {
   "cell_type": "code",
   "execution_count": 31,
   "id": "37ef9558",
   "metadata": {},
   "outputs": [
    {
     "name": "stdout",
     "output_type": "stream",
     "text": [
      "Requirement already satisfied: flask in d:\\anaconda3\\lib\\site-packages (1.1.2)Note: you may need to restart the kernel to use updated packages.\n"
     ]
    },
    {
     "name": "stderr",
     "output_type": "stream",
     "text": [
      "WARNING: You are using pip version 22.0.3; however, version 22.1.1 is available.\n",
      "You should consider upgrading via the 'D:\\anaconda3\\python.exe -m pip install --upgrade pip' command.\n"
     ]
    },
    {
     "name": "stdout",
     "output_type": "stream",
     "text": [
      "\n",
      "Requirement already satisfied: click>=5.1 in d:\\anaconda3\\lib\\site-packages (from flask) (8.0.4)\n",
      "Requirement already satisfied: itsdangerous>=0.24 in d:\\anaconda3\\lib\\site-packages (from flask) (2.0.1)\n",
      "Requirement already satisfied: Werkzeug>=0.15 in d:\\anaconda3\\lib\\site-packages (from flask) (2.0.3)\n",
      "Requirement already satisfied: Jinja2>=2.10.1 in d:\\anaconda3\\lib\\site-packages (from flask) (2.11.3)\n",
      "Requirement already satisfied: colorama in d:\\anaconda3\\lib\\site-packages (from click>=5.1->flask) (0.4.4)\n",
      "Requirement already satisfied: MarkupSafe>=0.23 in d:\\anaconda3\\lib\\site-packages (from Jinja2>=2.10.1->flask) (2.0.1)\n"
     ]
    }
   ],
   "source": [
    "pip install flask"
   ]
  },
  {
   "cell_type": "code",
   "execution_count": 33,
   "id": "aad30bff",
   "metadata": {},
   "outputs": [],
   "source": [
    "from flask import Flask\n",
    "app = Flask(__name__)\n",
    "\n",
    "@app.route('/')\n",
    "def hello_world():\n",
    "    return 'Hello, World!'"
   ]
  },
  {
   "cell_type": "markdown",
   "id": "40d8e56c",
   "metadata": {},
   "source": [
    "Jadi apa yang dilakukan kode tersebut?\n",
    "\n",
    "- Pertama kita mengimpor kelas `Flask`. Instance dari kelas ini adalah aplikasi WSGI kita.\n",
    "- Selanjutnya kita membuat instance dari kelas ini. Argumen pertama adalah nama modul atau paket aplikasi. Jika kita menggunakan satu modul (seperti dalam contoh ini), kita harus menggunakan `__name__` karena bergantung pada apakah aplikasi tersebut dimulai sebagai aplikasi atau diimpor sebagai modul, namanya akan berbeda (`'__main__'` versus nama impor sebenarnya). Ini diperlukan agar Flask tahu di mana mencari templates, static files, dan lain-lain.\n",
    "- Kita kemudian menggunakan dekorator `route()` untuk memberi tahu Flask, URL apa yang harus mentrigger fungsi kita.\n",
    "- Fungsi tersebut diberi nama yang juga digunakan untuk menghasilkan URL untuk fungsi tertentu itu, dan mengembalikan pesan yang ingin kita tampilkan di browser pengguna.\n",
    "\n",
    "Simpan sebagai `hello.py` atau yang serupa. Pastikan untuk tidak memanggil aplikasi kita `flask.py` karena ini akan conflict dengan Flask itu sendiri.\n",
    "\n",
    "Untuk menjalankan aplikasi, kita dapat menggunakan perintah flask atau switch -m python dengan Flask. Sebelum kita dapat melakukannya, kita perlu memberi tahu terminal tentang aplikasi yang akan digunakan dengan mengekspor FLASK_APP environment variable:\n",
    "\n",
    "```\n",
    "$ export FLASK_APP=hello.py\n",
    "$ flask run\n",
    " * Running on http://127.0.0.1:5000/\n",
    "\n",
    "```\n",
    "\n",
    "Command ini meluncurkan server bawaan yang sangat sederhana, yang cukup baik untuk testingtetapi mungkin bukan yang ingin Anda gunakan dalam production.\n",
    "\n",
    "Sekarang akses ke http://127.0.0.1:5000/, dan kita akan melihat hello world."
   ]
  },
  {
   "cell_type": "markdown",
   "id": "3c8c8d19",
   "metadata": {},
   "source": [
    "### Debug Mode\n",
    "\n",
    "Script flask sangat bagus untuk memulai server local development, tetapi kita harus merestart secara manual setelah setiap perubahan pada kode kita. Hal itu tidak bagus dan Flask bisa melakukannya dengan lebih baik. Jika kita mengaktifkan debug support, server akan merestart dirinya sendiri pada perubahan kode, dan itu juga akan memberi kita debugger yang berguna jika terjadi kesalahan.\n",
    "\n",
    "Untuk mengaktifkan semua fitur development (termasuk mode debug) kita dapat mengekspor FLASK_ENV environment variable dan menyetelnya ke development sebelum menjalankan server:\n",
    "\n",
    "```\n",
    "$ export FLASK_ENV=development\n",
    "$ flask run\n",
    "```\n",
    "\n",
    "(On Windows you need to use set instead of export.)\n",
    "\n",
    "Hal tersebut melakukan hal-hal berikut:\n",
    "\n",
    "- it activates the debugger\n",
    "- it activates the automatic reloader\n",
    "- it enables the debug mode on the Flask application.\n",
    "\n",
    "Kita juga dapat mengontrol mode debug secara terpisah dari environment dengan mengekspor `FLASK_DEBUG=1`."
   ]
  },
  {
   "cell_type": "markdown",
   "id": "51794a8b",
   "metadata": {},
   "source": [
    "### Routing\n",
    "\n",
    "Aplikasi web modern menggunakan URL yang meaningful untuk membantu pengguna. Pengguna lebih cenderung menyukai halaman dan kembaliika halaman tersebut menggunakan URL yang meaningful yang dapat mereka ingat dan gunakan untuk mengunjungi halaman secara langsung.\n",
    "\n",
    "Gunakan dekorator route() untuk mengikat fungsi ke URL."
   ]
  },
  {
   "cell_type": "code",
   "execution_count": 34,
   "id": "8186f2bb",
   "metadata": {},
   "outputs": [],
   "source": [
    "@app.route('/')\n",
    "def index():\n",
    "    return 'Index Page'\n",
    "\n",
    "@app.route('/hello')\n",
    "def hello():\n",
    "    return 'Hello, World'"
   ]
  },
  {
   "cell_type": "markdown",
   "id": "07944c29",
   "metadata": {},
   "source": [
    "### Variable Rules\n",
    "\n",
    "Kita dapat menambahkan bagian variabel ke URL dengan menandai bagian dengan `<variable_name>`. Fungsi kita kemudian menerima masukan sebagai keyword argument. Secara opsional, kita  bisa menggunakan konverter untuk menentukan tipe argumen seperti `<converter:variable_name>`."
   ]
  },
  {
   "cell_type": "code",
   "execution_count": 35,
   "id": "ad2b566b",
   "metadata": {},
   "outputs": [],
   "source": [
    "from markupsafe import escape\n",
    "\n",
    "@app.route('/user/<username>')\n",
    "def show_user_profile(username):\n",
    "    # show the user profile for that user\n",
    "    return 'User %s' % escape(username)\n",
    "\n",
    "@app.route('/post/<int:post_id>')\n",
    "def show_post(post_id):\n",
    "    # show the post with the given id, the id is an integer\n",
    "    return 'Post %d' % post_id\n",
    "\n",
    "@app.route('/path/<path:subpath>')\n",
    "def show_subpath(subpath):\n",
    "    # show the subpath after /path/\n",
    "    return 'Subpath %s' % escape(subpath)"
   ]
  },
  {
   "cell_type": "markdown",
   "id": "e3e24756",
   "metadata": {},
   "source": [
    "### HTTP Methods\n",
    "\n",
    "Aplikasi web menggunakan metode HTTP yang berbeda saat mengakses URL. Kita harus membiasakan diri dengan metode HTTP saat kita bekerja dengan Flask. Secara default, route hanya menjawab permintaan GET . Kita bisa menggunakan argumen metode dekorator route()  untuk menangani metode HTTP yang berbeda."
   ]
  },
  {
   "cell_type": "code",
   "execution_count": 36,
   "id": "b0bdfccc",
   "metadata": {},
   "outputs": [],
   "source": [
    "from flask import request\n",
    "\n",
    "@app.route('/login', methods=['GET', 'POST'])\n",
    "def login():\n",
    "    if request.method == 'POST':\n",
    "        return do_the_login()\n",
    "    else:\n",
    "        return show_the_login_form()"
   ]
  },
  {
   "cell_type": "markdown",
   "id": "122e5460",
   "metadata": {},
   "source": [
    "Jika GET tersedia, Flask secara otomatis menambahkan dukungan untuk metode HEAD dan menangani permintaan HEAD sesuai dengan HTTP RFC. Demikian juga, OPTIONS diterapkan secara otomatis untuk kita.\n",
    "\n",
    "### Static Files\n",
    "\n",
    "Aplikasi web dinamis juga membutuhkan file statis. Biasanya dari situlah file **CSS** dan **JavaScript** berasal. Idealnya server web kita dikonfigurasi untuk menyajikannya untuk kita , tetapi selama pengembangan, Flask juga dapat melakukannya. Cukup buat folder bernama static dalam paket kita atau di sebelah modul kita dan itu akan tersedia di `/static` pada aplikasi.\n",
    "\n",
    "Untuk menghasilkan URL untuk file statis, gunakan endpoint name `'static'`:\n",
    "\n",
    "`url_for('static', filename='style.css')`\n",
    "\n",
    "File harus disimpan di sistem file sebagai `static/style.css`."
   ]
  },
  {
   "cell_type": "markdown",
   "id": "2479bb46",
   "metadata": {},
   "source": [
    "### Rendering Templates\n",
    "\n",
    "Membuat HTML dari dalam Python tidaklah menyenangkan, dan sebenarnya cukup rumit karena kita harus melakukan HTML escaping sendiri untuk menjaga keamanan aplikasi. Karena itu Flask mengkonfigurasi template engine Jinja2 untuk kita  secara otomatis.\n",
    "\n",
    "Untuk merender template kita bisa menggunakan metode render_template(). Yang harus kita lakukan adalah memberikan nama template dan variabel yang ingin kita teruskan ke template engine sebagai keyword arguments. Berikut adalah contoh sederhana tentang cara merender template:"
   ]
  },
  {
   "cell_type": "code",
   "execution_count": null,
   "id": "e357d362",
   "metadata": {},
   "outputs": [],
   "source": [
    "from flask import render_template\n",
    "\n",
    "@app.route('/hello/')\n",
    "@app.route('/hello/<name>')\n",
    "def hello(name=None):\n",
    "    return render_template('hello.html', name=name)"
   ]
  },
  {
   "cell_type": "markdown",
   "id": "c11cf745",
   "metadata": {},
   "source": [
    "Flask akan mencari templates di folder templates . Jadi, jika aplikasi kita adalah sebuah modul, folder ini berada di sebelah modul tersebut, jika itu sebuah paket, itu sebenarnya ada di dalam packagekita:\n",
    "\n",
    "Case 1: a module:\n",
    "\n",
    "```\n",
    "/application.py\n",
    "   /templates\n",
    "       /hello.html\n",
    "```\n",
    "\n",
    "Case 2: a package:\n",
    "\n",
    "```\n",
    "/application\n",
    "       /__init__.py\n",
    "       /templates\n",
    "           /hello.html\n",
    "```\n",
    "\n",
    "Untuk template, kita dapat menggunakan template Jinja2\n",
    "\n",
    "Berikut ini contoh template\n",
    "\n",
    "```\n",
    "<!DOCTYPE html>\n",
    "<title>Hello from Flask</title>\n",
    "{% if name %}\n",
    "  <h1>Hello {{ name }}!</h1>\n",
    "{% else %}\n",
    "  <h1>Hello, World!</h1>\n",
    "{% endif %}\n",
    "```"
   ]
  },
  {
   "cell_type": "markdown",
   "id": "bef09c04",
   "metadata": {},
   "source": [
    "## Make Our Own Flask\n",
    "\n",
    "Ada beberapa hal yang perlu kita kumpulkan untuk aplikasi web. Dua yang pertama adalah:\n",
    "\n",
    "- The Python code that will load our model, get user input from a web form, do predictions, return results.\n",
    "- The HTML templates that flask with render. These allow the user to input their own data and will present the results.\n",
    "\n",
    "Aplikasi kita pada awalnya akan memiliki struktur seperti ini:\n",
    "\n",
    "```\n",
    "H8Deployment/\n",
    "    ├── model/\n",
    "    │   └── model_classifier.pkl\n",
    "    ├── static\n",
    "    │   └── css\n",
    "    │        └── style.css\n",
    "    ├── templates/\n",
    "    │   └── main.html\n",
    "    └── app.py\n",
    " ```   \n",
    " \n",
    "1. model — Ini berisi kode untuk Machine Learning kita.\n",
    "2. app.py — Ini berisi Flask API yang menerima detail siswa melalui panggilan GUI atau API, menghitung nilai yang diprediksi berdasarkan model kita dan mengembalikannya.\n",
    "3. template — Folder ini berisi template HTML (main.html) untuk memungkinkan pengguna memasukkan detail siswa dan menampilkan nilai prediksi.\n",
    "4. static — Folder ini berisi folder css dengan file style.css yang memiliki stryleyang diperlukan untuk file main.html.\n",
    "\n",
    "Pertama-tama kita akan membuat `app.py` dan `main.html` yang sangat mendasar, untuk mendemonstrasikan cara kerja flask. Kita akan mengembangkannya nanti untuk menyesuaikan dengan kebutuhan kita."
   ]
  },
  {
   "cell_type": "markdown",
   "id": "746950d1",
   "metadata": {},
   "source": [
    "### app.py\n",
    "\n",
    "Ini adalah inti dari aplikasi web kita. app.py juga yang akan dijalankan di server Heroku, mengirimkan halaman web dan memproses masukan dari pengguna.\n",
    "\n",
    "Dalam flask, URL dirutekan ke fungsi yang berbeda. Di sini, kita dapat melihat bahwa membuka URL dasar (mis. www.ardhiraka.com) akan memicu fungsi `main()`. Fungsi ini hanya menyajikan file `main.html`, yang lokasinya ditentukan saat aplikasi dibuat. Kita dapat mengatur semua jenis routes untuk logging in, displaying data atau lainnya."
   ]
  },
  {
   "cell_type": "code",
   "execution_count": null,
   "id": "d26f0d70",
   "metadata": {},
   "outputs": [
    {
     "name": "stdout",
     "output_type": "stream",
     "text": [
      " * Serving Flask app \"__main__\" (lazy loading)\n",
      " * Environment: production\n",
      "\u001b[31m   WARNING: This is a development server. Do not use it in a production deployment.\u001b[0m\n",
      "\u001b[2m   Use a production WSGI server instead.\u001b[0m\n",
      " * Debug mode: off\n"
     ]
    },
    {
     "name": "stderr",
     "output_type": "stream",
     "text": [
      " * Running on http://127.0.0.1:5000/ (Press CTRL+C to quit)\n"
     ]
    }
   ],
   "source": [
    "import flask\n",
    "\n",
    "app = flask.Flask(__name__, template_folder='templates')\n",
    "\n",
    "@app.route('/')\n",
    "def main():\n",
    "    return(flask.render_template('main.html'))\n",
    "if __name__ == '__main__':\n",
    "    app.run()"
   ]
  },
  {
   "cell_type": "markdown",
   "id": "8df55883",
   "metadata": {},
   "source": [
    "### main.html\n",
    "\n",
    "Seperti inilah tampilan file template saat ini. Yang dilakukannya hanyalah menampilkan pesan sederhana. Kita akan mengeditnya nanti untuk menyesuaikan dengan kebutuhan kita.\n",
    "\n",
    "```\n",
    "<!DOCTYPE html>\n",
    "<html lang=\"en\">\n",
    "<head>\n",
    "    <meta charset=\"UTF-8\">\n",
    "    <meta name=\"viewport\" content=\"width=device-width, initial-scale=1.0\">\n",
    "    <title>H8 Model Deployment</title>\n",
    "</head>\n",
    "<body>\n",
    "    <h1>Welcome to My First Flask Apps!</h1>\n",
    "</body>\n",
    "</html>\n",
    "```"
   ]
  },
  {
   "cell_type": "markdown",
   "id": "c049ef78",
   "metadata": {},
   "source": [
    "### Running the test app\n",
    "\n",
    "Untuk memulai flask di komputer lokal kita, pastikan kita berada di folder H8Deployment dan jalankan perintah: python app.py.\n",
    "\n",
    "Hal ini akan meluncurkan aplikasi kita secara lokal, di http://127.0.0.1:5000/. \n",
    "\n",
    "### Editing app.py to load the model\n",
    "\n",
    "Di bawah ini kita dapat melihat app.py yang dikembangkan. Dengan pickled model, kita tidak perlu mengimpor algoritme sklearn atau apa pun - kita hanya menetapkannya ke variabel - tetapi kita perlu mengimpor paket yang diperlukan. Perhatikan bahwa kita  memuat model di bagian atas aplikasi. Artinya, ini hanya akan dimuat ke dalam memori satu kali di server saat kita menerapkannya, daripada dimuat setiap kali kami ingin membuat prediksi."
   ]
  },
  {
   "cell_type": "code",
   "execution_count": null,
   "id": "f2f915f0",
   "metadata": {},
   "outputs": [],
   "source": [
    "import numpy as np\n",
    "import pickle\n",
    "\n",
    "model = pickle.load(open('model/model_classifier.pkl', 'rb'))"
   ]
  },
  {
   "cell_type": "markdown",
   "id": "89c8d84e",
   "metadata": {},
   "source": [
    "Redirecting the API to predict the result"
   ]
  },
  {
   "cell_type": "code",
   "execution_count": null,
   "id": "6b794ae8",
   "metadata": {},
   "outputs": [],
   "source": [
    "@app.route('/predict',methods=['POST'])\n",
    "def predict():\n",
    "    '''\n",
    "    For rendering results on HTML GUI\n",
    "    '''\n",
    "    int_features = [int(x) for x in flask.request.form.values()]\n",
    "    final_features = [np.array(int_features)]\n",
    "    prediction = model.predict(final_features)\n",
    "\n",
    "    output = {0: 'not placed', 1: 'placed'}\n",
    "\n",
    "    return flask.render_template('main.html', prediction_text='Student must be {} to workplace'.format(output[prediction[0]]))\n"
   ]
  },
  {
   "cell_type": "markdown",
   "id": "78ebad48",
   "metadata": {},
   "source": [
    "Karena ini adalah request `POST`, ini akan membaca nilai input dari `request.form.values()`. Sekarang kita memiliki nilai input dalam variabel `int_features`, kita akan mengubahnya menjadi sebuah array dan kemudian menggunakan model untuk memprediksinya.\n",
    "\n",
    "Saat kita mengklik tombol predict di `main.html`, dia akan memprediksi hasil untuk nilai yang dimasukkan oleh pengguna, kemudian meneruskan variabel `output` yang dikeluarkan dari model dan mengirimkannya kembali ke template `main.html` sebagai `prediction_text`.\n",
    "\n",
    "Dalam kasus ini, kita perlu membuat aplikasi Flask kita dapat di-debug sehingga kita dapat dengan mudah memperbaikinya ketika masalah datang.\n",
    "\n",
    "Tambahkan `debug=True` di `app.run`."
   ]
  },
  {
   "cell_type": "code",
   "execution_count": null,
   "id": "19e0b06c",
   "metadata": {},
   "outputs": [],
   "source": [
    "if __name__ == \"__main__\":\n",
    "    app.run(debug=True)"
   ]
  },
  {
   "cell_type": "markdown",
   "id": "32e4550a",
   "metadata": {},
   "source": [
    "### Editing the main.html template\n",
    "Template perlu dikembangkan dengan form. Kode HTML untuk ini ada di bawah.\n",
    "\n",
    "Komponen penting:\n",
    "\n",
    "**The form**\n",
    "\n",
    "```\n",
    "<form action=\"{{ url_for('predict') }}\" method=\"post\">\n",
    "```\n",
    "\n",
    "Atribut `action` memberi tahu flask route mana harus dipanggil ketika form disubmit. Dalam aplikasi sederhana ini, kita hanya menginginkan main function . Metode POST memberi tahu fungsi itu bahwa ia harus mengharapkan input dan setelahnya memprosesnya.\n",
    "\n",
    "**Some input checks**\n",
    "\n",
    "Saat kita bekerja dengan model kita sendiri, kita tidak cenderung melakukan hal-hal seperti menekan keyboard secara acak untuk memasukkan data. Tapi mungkin orang lain akan melakukannya. Jadi, yang terbaik adalah memastikan masukannya sesuai dengan yang kita harapkan. Oleh karena itu, elemen `<input>` dari form memiliki atribut `required`, untuk menjadikannya wajib.\n",
    "\n",
    "```\n",
    "<input type=\"text\" name=\"ssc\" placeholder=\"Secondary Education\" required=\"required\" />\n",
    "<input type=\"text\" name=\"hsc\" placeholder=\"Highschool\" required=\"required\" />\n",
    "<input type=\"text\" name=\"degree\" placeholder=\"Degree\" required=\"required\" />\n",
    "<input type=\"text\" name=\"etest\" placeholder=\"Interview Score\" required=\"required\" />\n",
    "\n",
    "<button type=\"submit\" class=\"btn btn-primary btn-block btn-large\">Predict</button>\n",
    "```\n",
    "\n",
    "***The results***\n",
    "\n",
    "Placeholder `{{ prediction_text }}` yang kita lihat di sini adalah tempat prediksi keluaran kita dari model akan ditempatkan di file main.html kita.\n",
    "\n",
    "Sekarang, file main.html kita akan terlihat seperti ini:\n",
    "\n",
    "```\n",
    "<!DOCTYPE html>\n",
    "<html lang=\"en\">\n",
    "<head>\n",
    "    <meta charset=\"UTF-8\">\n",
    "    <meta name=\"viewport\" content=\"width=device-width, initial-scale=1.0\">\n",
    "    <title>H8 Model Deployment</title>\n",
    "</head>\n",
    "<body>\n",
    "\n",
    "    <div class=\"form\">\n",
    "        <h1>Hacktiv8 Student Placement Classifier</h1>\n",
    "\n",
    "        <form action=\"{{ url_for('predict') }}\" method=\"post\">\n",
    "            <input type=\"text\" name=\"ssc\" placeholder=\"Secondary Education\" required=\"required\" />\n",
    "            <input type=\"text\" name=\"hsc\" placeholder=\"Highschool\" required=\"required\" />\n",
    "            <input type=\"text\" name=\"degree\" placeholder=\"Degree\" required=\"required\" />\n",
    "            <input type=\"text\" name=\"etest\" placeholder=\"Interview Score\" required=\"required\" />\n",
    "\n",
    "            <button type=\"submit\" class=\"btn btn-primary btn-block btn-large\">Predict</button>\n",
    "        </form>\n",
    "\n",
    "        <p class=\"message\">{{ prediction_text }}</p>\n",
    "    </div>\n",
    "\n",
    "</body>\n",
    "</html>\n",
    "```\n",
    "\n",
    "Sekarang Restart Server Flask menggunakan `python app.py` dan uji masukan dan keluaran prediksi."
   ]
  },
  {
   "cell_type": "markdown",
   "id": "aec6ce8f",
   "metadata": {},
   "source": [
    "### Simple CSS\n",
    "\n",
    "Tambahkan `<link rel=\"stylesheet\" href=\"{{ url_for('static', filename='css/style.css') }}\">` pada `main.html`, jadi file `main.html` kita dapat menemukan file styling.\n",
    "\n",
    "Pada `style.css`, tambahkan beberapa kode:\n",
    "\n",
    "```\n",
    "@import url(https://fonts.googleapis.com/css?family=Roboto:300);\n",
    "\n",
    ".form {\n",
    "  position: relative;\n",
    "  z-index: 1;\n",
    "  background: #FFFFFF;\n",
    "  max-width: 360px;\n",
    "  margin: 0 auto 100px;\n",
    "  padding: 45px;\n",
    "  text-align: center;\n",
    "  box-shadow: 0 0 20px 0 rgba(0, 0, 0, 0.2), 0 5px 5px 0 rgba(0, 0, 0, 0.24);\n",
    "}\n",
    ".form input {\n",
    "  font-family: \"Roboto\", sans-serif;\n",
    "  outline: 0;\n",
    "  background: #f2f2f2;\n",
    "  width: 100%;\n",
    "  border: 0;\n",
    "  margin: 0 0 15px;\n",
    "  padding: 15px;\n",
    "  box-sizing: border-box;\n",
    "  font-size: 14px;\n",
    "}\n",
    ".form button {\n",
    "  font-family: \"Roboto\", sans-serif;\n",
    "  text-transform: uppercase;\n",
    "  outline: 0;\n",
    "  background: #F19023;\n",
    "  width: 100%;\n",
    "  border: 0;\n",
    "  padding: 15px;\n",
    "  color: #FFFFFF;\n",
    "  font-size: 14px;\n",
    "  cursor: pointer;\n",
    "}\n",
    ".form button:hover,.form button:active,.form button:focus {\n",
    "  background: #c5761c;\n",
    "}\n",
    ".form .message {\n",
    "  margin: 15px 0 0;\n",
    "  color: #b3b3b3;\n",
    "  font-size: 12px;\n",
    "}\n",
    "\n",
    "body {\n",
    "  background: #F19023;\n",
    "  font-family: \"Roboto\", sans-serif;  \n",
    "}\n",
    "```\n",
    "\n",
    "Sekarang reload browser web kita."
   ]
  },
  {
   "cell_type": "markdown",
   "id": "84dc29c1",
   "metadata": {},
   "source": [
    "## Ready for Deployment\n",
    "\n",
    "Pada langkah ini kita akan menginstal Heroku Command Line Interface (CLI). Kita menggunakan CLI untuk managedan scale aplikasi, menyediakan add-on, melihat log aplikasi, dan menjalankan aplikasi kita secara lokal.\n",
    "\n",
    "Unduh dan jalankan installer untuk platform kita dari sini.\n",
    "\n",
    "Setelah terinstal, kita dapat menggunakan perintah heroku dari command shell.\n",
    "\n",
    "Di Windows, jalankan Command Prompt (cmd.exe) atau Powershell untuk mengakses command shell.\n",
    "\n",
    "Gunakan perintah `heroku login` untuk login ke Heroku CLI.\n",
    "\n",
    "Perintah ini membuka browser web kita ke halaman login Heroku. Jika browser kita sudah masuk ke Heroku, cukup klik tombol `Log in` yang ditampilkan di halaman.\n",
    "\n",
    "Autentikasi ini diperlukan agar perintah heroku dan git berfungsi dengan benar.\n",
    "\n",
    "Buat aplikasi di Heroku, yang mempersiapkan Heroku untuk menerima source code:\n",
    "\n",
    "`heroku create`\n",
    "\n",
    "Secara default, command tersebut akan membuat aplikasi dengan nama acak. Jika kita ingin memilih nama aplikasi sendiri, cukup pass sebagai argumen. Sebagai contoh:\n",
    "\n",
    "`heroku create h8-model-<nama>`\n",
    "\n",
    "Saat kita create app seperti diatas, git remote (disebut `heroku`) juga dibuat dan dikaitkan dengan repositori git lokal kita."
   ]
  },
  {
   "cell_type": "markdown",
   "id": "5bb9b46e",
   "metadata": {},
   "source": [
    "### Prepare The App\n",
    "\n",
    "Pada langkah ini, kita akan menyiapkan aplikasi sederhana yang dapat di-deploy.\n",
    "\n",
    "Buat `.gitignore` file to menghiraukan file generated seperti `__pycache__/` atau `ipynb_checkpoints/`.\n",
    "\n",
    "Dalam folder `H8Deployment`, jalankan command berikut untuk membuat repository baru: `git init`\n",
    "\n",
    "### Created The Required Heroku Files\n",
    "\n",
    "Kita akan membutuhkan dua file, ditempatkan di dalam folder H8Deployment.\n",
    "\n",
    "1. requirements.txt\n",
    "\n",
    "File ini memberi tahu Heroku packages mana yang harus dipasang untuk aplikasi web kita. Akan terlihat seperti ini:"
   ]
  },
  {
   "cell_type": "code",
   "execution_count": null,
   "id": "f2b28362",
   "metadata": {},
   "outputs": [],
   "source": [
    "flask\n",
    "numpy\n",
    "sklearn\n",
    "gunicorn"
   ]
  },
  {
   "cell_type": "markdown",
   "id": "df416923",
   "metadata": {},
   "source": [
    "2. Procfile\n",
    "\n",
    "2. Procfile\n",
    "File ini memberi tahu Heroku jenis aplikasi yang kita jalankan dan cara menyajikannya kepada pengguna. File ini hanya berisi satu baris dan akan terlihat seperti ini: \n",
    "\n",
    "`web: gunicorn app:app`\n",
    "\n",
    "Folder aplikasi web kita sekarang akan terlihat seperti ini:\n",
    "\n",
    "```\n",
    "H8Deployment/\n",
    "    ├── model/\n",
    "    │   └── model_classifier.pkl\n",
    "    ├── static\n",
    "    │   └── css\n",
    "    │        └── style.css\n",
    "    ├── templates/\n",
    "    │   └── main.html\n",
    "    ├── app.py\n",
    "    ├── Procfile\n",
    "    ├── requirements.txt\n",
    "```"
   ]
  },
  {
   "cell_type": "markdown",
   "id": "b63c2af5",
   "metadata": {},
   "source": [
    "### Add Files to Repository\n",
    "\n",
    "Saat berada di folder H8Deployment , gunakan perintah berikut untuk menambahkan semua file aplikasi web ke repositori git:\n",
    "\n",
    "`git add .`\n",
    "`git commit -m \"First commit!\"`\n",
    "\n",
    "### Set the remote destination for pushing from git to Heroku\n",
    "\n",
    "Perintah ini memudahkan untuk push aplikasi web lokal ke Heroku, menggunakan git. Kita harus mengubah h8-model menjadi nama yang kita beri untuk aplikasi Heroku saat kita membuatnya.\n",
    "\n",
    "`heroku git:remote -a h8-model-<nama>`"
   ]
  },
  {
   "cell_type": "markdown",
   "id": "17e8680b",
   "metadata": {},
   "source": [
    "### Deploy The App\n",
    "\n",
    "Sekarang deploy kode kita:\n",
    "\n",
    "`git push heroku master`\n",
    "\n",
    "Aplikasi sekarang dideploy. Pastikan setidaknya satu instance aplikasi sedang berjalan:\n",
    "\n",
    "`heroku ps:scale web=1`\n",
    "\n",
    "Sekarang kunjungi aplikasi di URL yang dihasilkan oleh nama aplikasinya. Sebagai shortcut praktis, kita dapat membuka situs web sebagai berikut:\n",
    "\n",
    "`heroku open`"
   ]
  },
  {
   "cell_type": "code",
   "execution_count": null,
   "id": "ddfed0a5",
   "metadata": {},
   "outputs": [],
   "source": []
  }
 ],
 "metadata": {
  "kernelspec": {
   "display_name": "Python 3 (ipykernel)",
   "language": "python",
   "name": "python3"
  },
  "language_info": {
   "codemirror_mode": {
    "name": "ipython",
    "version": 3
   },
   "file_extension": ".py",
   "mimetype": "text/x-python",
   "name": "python",
   "nbconvert_exporter": "python",
   "pygments_lexer": "ipython3",
   "version": "3.9.7"
  },
  "toc": {
   "base_numbering": 1,
   "nav_menu": {},
   "number_sections": true,
   "sideBar": true,
   "skip_h1_title": false,
   "title_cell": "Table of Contents",
   "title_sidebar": "Contents",
   "toc_cell": false,
   "toc_position": {},
   "toc_section_display": true,
   "toc_window_display": false
  }
 },
 "nbformat": 4,
 "nbformat_minor": 5
}
